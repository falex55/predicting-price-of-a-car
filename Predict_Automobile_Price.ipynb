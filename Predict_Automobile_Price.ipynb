{
 "cells": [
  {
   "cell_type": "markdown",
   "metadata": {},
   "source": [
    "# Predicting Price of a car based on several characteristics "
   ]
  },
  {
   "cell_type": "code",
   "execution_count": 1,
   "metadata": {},
   "outputs": [],
   "source": [
    "import numpy as np\n",
    "import pandas as pd\n",
    "import seaborn as sns \n",
    "import matplotlib.pyplot as plt"
   ]
  },
  {
   "cell_type": "code",
   "execution_count": 2,
   "metadata": {},
   "outputs": [],
   "source": [
    "df = pd.read_csv('AutoData.csv')"
   ]
  },
  {
   "cell_type": "code",
   "execution_count": 3,
   "metadata": {},
   "outputs": [],
   "source": [
    "import warnings\n",
    "warnings.filterwarnings('ignore')"
   ]
  },
  {
   "cell_type": "code",
   "execution_count": 4,
   "metadata": {},
   "outputs": [
    {
     "data": {
      "text/html": [
       "<div>\n",
       "<style scoped>\n",
       "    .dataframe tbody tr th:only-of-type {\n",
       "        vertical-align: middle;\n",
       "    }\n",
       "\n",
       "    .dataframe tbody tr th {\n",
       "        vertical-align: top;\n",
       "    }\n",
       "\n",
       "    .dataframe thead th {\n",
       "        text-align: right;\n",
       "    }\n",
       "</style>\n",
       "<table border=\"1\" class=\"dataframe\">\n",
       "  <thead>\n",
       "    <tr style=\"text-align: right;\">\n",
       "      <th></th>\n",
       "      <th>symboling</th>\n",
       "      <th>make</th>\n",
       "      <th>fueltype</th>\n",
       "      <th>aspiration</th>\n",
       "      <th>doornumber</th>\n",
       "      <th>carbody</th>\n",
       "      <th>drivewheel</th>\n",
       "      <th>enginelocation</th>\n",
       "      <th>wheelbase</th>\n",
       "      <th>carlength</th>\n",
       "      <th>...</th>\n",
       "      <th>enginesize</th>\n",
       "      <th>fuelsystem</th>\n",
       "      <th>boreratio</th>\n",
       "      <th>stroke</th>\n",
       "      <th>compressionratio</th>\n",
       "      <th>horsepower</th>\n",
       "      <th>peakrpm</th>\n",
       "      <th>citympg</th>\n",
       "      <th>highwaympg</th>\n",
       "      <th>price</th>\n",
       "    </tr>\n",
       "  </thead>\n",
       "  <tbody>\n",
       "    <tr>\n",
       "      <th>0</th>\n",
       "      <td>3</td>\n",
       "      <td>alfa-romero giulia</td>\n",
       "      <td>gas</td>\n",
       "      <td>std</td>\n",
       "      <td>two</td>\n",
       "      <td>convertible</td>\n",
       "      <td>rwd</td>\n",
       "      <td>front</td>\n",
       "      <td>88.6</td>\n",
       "      <td>168.8</td>\n",
       "      <td>...</td>\n",
       "      <td>130</td>\n",
       "      <td>mpfi</td>\n",
       "      <td>3.47</td>\n",
       "      <td>2.68</td>\n",
       "      <td>9.0</td>\n",
       "      <td>111</td>\n",
       "      <td>5000</td>\n",
       "      <td>21</td>\n",
       "      <td>27</td>\n",
       "      <td>13495.0</td>\n",
       "    </tr>\n",
       "    <tr>\n",
       "      <th>1</th>\n",
       "      <td>3</td>\n",
       "      <td>alfa-romero stelvio</td>\n",
       "      <td>gas</td>\n",
       "      <td>std</td>\n",
       "      <td>two</td>\n",
       "      <td>convertible</td>\n",
       "      <td>rwd</td>\n",
       "      <td>front</td>\n",
       "      <td>88.6</td>\n",
       "      <td>168.8</td>\n",
       "      <td>...</td>\n",
       "      <td>130</td>\n",
       "      <td>mpfi</td>\n",
       "      <td>3.47</td>\n",
       "      <td>2.68</td>\n",
       "      <td>9.0</td>\n",
       "      <td>111</td>\n",
       "      <td>5000</td>\n",
       "      <td>21</td>\n",
       "      <td>27</td>\n",
       "      <td>16500.0</td>\n",
       "    </tr>\n",
       "    <tr>\n",
       "      <th>2</th>\n",
       "      <td>1</td>\n",
       "      <td>alfa-romero Quadrifoglio</td>\n",
       "      <td>gas</td>\n",
       "      <td>std</td>\n",
       "      <td>two</td>\n",
       "      <td>hatchback</td>\n",
       "      <td>rwd</td>\n",
       "      <td>front</td>\n",
       "      <td>94.5</td>\n",
       "      <td>171.2</td>\n",
       "      <td>...</td>\n",
       "      <td>152</td>\n",
       "      <td>mpfi</td>\n",
       "      <td>2.68</td>\n",
       "      <td>3.47</td>\n",
       "      <td>9.0</td>\n",
       "      <td>154</td>\n",
       "      <td>5000</td>\n",
       "      <td>19</td>\n",
       "      <td>26</td>\n",
       "      <td>16500.0</td>\n",
       "    </tr>\n",
       "    <tr>\n",
       "      <th>3</th>\n",
       "      <td>2</td>\n",
       "      <td>audi 100 ls</td>\n",
       "      <td>gas</td>\n",
       "      <td>std</td>\n",
       "      <td>four</td>\n",
       "      <td>sedan</td>\n",
       "      <td>fwd</td>\n",
       "      <td>front</td>\n",
       "      <td>99.8</td>\n",
       "      <td>176.6</td>\n",
       "      <td>...</td>\n",
       "      <td>109</td>\n",
       "      <td>mpfi</td>\n",
       "      <td>3.19</td>\n",
       "      <td>3.40</td>\n",
       "      <td>10.0</td>\n",
       "      <td>102</td>\n",
       "      <td>5500</td>\n",
       "      <td>24</td>\n",
       "      <td>30</td>\n",
       "      <td>13950.0</td>\n",
       "    </tr>\n",
       "    <tr>\n",
       "      <th>4</th>\n",
       "      <td>2</td>\n",
       "      <td>audi 100ls</td>\n",
       "      <td>gas</td>\n",
       "      <td>std</td>\n",
       "      <td>four</td>\n",
       "      <td>sedan</td>\n",
       "      <td>4wd</td>\n",
       "      <td>front</td>\n",
       "      <td>99.4</td>\n",
       "      <td>176.6</td>\n",
       "      <td>...</td>\n",
       "      <td>136</td>\n",
       "      <td>mpfi</td>\n",
       "      <td>3.19</td>\n",
       "      <td>3.40</td>\n",
       "      <td>8.0</td>\n",
       "      <td>115</td>\n",
       "      <td>5500</td>\n",
       "      <td>18</td>\n",
       "      <td>22</td>\n",
       "      <td>17450.0</td>\n",
       "    </tr>\n",
       "  </tbody>\n",
       "</table>\n",
       "<p>5 rows × 25 columns</p>\n",
       "</div>"
      ],
      "text/plain": [
       "   symboling                      make fueltype aspiration doornumber  \\\n",
       "0          3        alfa-romero giulia      gas        std        two   \n",
       "1          3       alfa-romero stelvio      gas        std        two   \n",
       "2          1  alfa-romero Quadrifoglio      gas        std        two   \n",
       "3          2               audi 100 ls      gas        std       four   \n",
       "4          2                audi 100ls      gas        std       four   \n",
       "\n",
       "       carbody drivewheel enginelocation  wheelbase  carlength  ...  \\\n",
       "0  convertible        rwd          front       88.6      168.8  ...   \n",
       "1  convertible        rwd          front       88.6      168.8  ...   \n",
       "2    hatchback        rwd          front       94.5      171.2  ...   \n",
       "3        sedan        fwd          front       99.8      176.6  ...   \n",
       "4        sedan        4wd          front       99.4      176.6  ...   \n",
       "\n",
       "   enginesize  fuelsystem  boreratio stroke compressionratio  horsepower  \\\n",
       "0         130        mpfi       3.47   2.68              9.0         111   \n",
       "1         130        mpfi       3.47   2.68              9.0         111   \n",
       "2         152        mpfi       2.68   3.47              9.0         154   \n",
       "3         109        mpfi       3.19   3.40             10.0         102   \n",
       "4         136        mpfi       3.19   3.40              8.0         115   \n",
       "\n",
       "  peakrpm  citympg  highwaympg    price  \n",
       "0    5000       21          27  13495.0  \n",
       "1    5000       21          27  16500.0  \n",
       "2    5000       19          26  16500.0  \n",
       "3    5500       24          30  13950.0  \n",
       "4    5500       18          22  17450.0  \n",
       "\n",
       "[5 rows x 25 columns]"
      ]
     },
     "execution_count": 4,
     "metadata": {},
     "output_type": "execute_result"
    }
   ],
   "source": [
    "df.head()"
   ]
  },
  {
   "cell_type": "code",
   "execution_count": 5,
   "metadata": {},
   "outputs": [
    {
     "data": {
      "text/plain": [
       "symboling           0\n",
       "make                0\n",
       "fueltype            0\n",
       "aspiration          0\n",
       "doornumber          0\n",
       "carbody             0\n",
       "drivewheel          0\n",
       "enginelocation      0\n",
       "wheelbase           0\n",
       "carlength           0\n",
       "carwidth            0\n",
       "carheight           0\n",
       "curbweight          0\n",
       "enginetype          0\n",
       "cylindernumber      0\n",
       "enginesize          0\n",
       "fuelsystem          0\n",
       "boreratio           0\n",
       "stroke              0\n",
       "compressionratio    0\n",
       "horsepower          0\n",
       "peakrpm             0\n",
       "citympg             0\n",
       "highwaympg          0\n",
       "price               0\n",
       "dtype: int64"
      ]
     },
     "execution_count": 5,
     "metadata": {},
     "output_type": "execute_result"
    }
   ],
   "source": [
    "df.isna().sum()"
   ]
  },
  {
   "cell_type": "code",
   "execution_count": 6,
   "metadata": {},
   "outputs": [
    {
     "data": {
      "text/plain": [
       "(205, 25)"
      ]
     },
     "execution_count": 6,
     "metadata": {},
     "output_type": "execute_result"
    }
   ],
   "source": [
    "df.shape"
   ]
  },
  {
   "cell_type": "code",
   "execution_count": 7,
   "metadata": {},
   "outputs": [
    {
     "data": {
      "text/html": [
       "<div>\n",
       "<style scoped>\n",
       "    .dataframe tbody tr th:only-of-type {\n",
       "        vertical-align: middle;\n",
       "    }\n",
       "\n",
       "    .dataframe tbody tr th {\n",
       "        vertical-align: top;\n",
       "    }\n",
       "\n",
       "    .dataframe thead th {\n",
       "        text-align: right;\n",
       "    }\n",
       "</style>\n",
       "<table border=\"1\" class=\"dataframe\">\n",
       "  <thead>\n",
       "    <tr style=\"text-align: right;\">\n",
       "      <th></th>\n",
       "      <th>symboling</th>\n",
       "      <th>wheelbase</th>\n",
       "      <th>carlength</th>\n",
       "      <th>carwidth</th>\n",
       "      <th>carheight</th>\n",
       "      <th>curbweight</th>\n",
       "      <th>enginesize</th>\n",
       "      <th>boreratio</th>\n",
       "      <th>stroke</th>\n",
       "      <th>compressionratio</th>\n",
       "      <th>horsepower</th>\n",
       "      <th>peakrpm</th>\n",
       "      <th>citympg</th>\n",
       "      <th>highwaympg</th>\n",
       "      <th>price</th>\n",
       "    </tr>\n",
       "  </thead>\n",
       "  <tbody>\n",
       "    <tr>\n",
       "      <th>count</th>\n",
       "      <td>205.000000</td>\n",
       "      <td>205.000000</td>\n",
       "      <td>205.000000</td>\n",
       "      <td>205.000000</td>\n",
       "      <td>205.000000</td>\n",
       "      <td>205.000000</td>\n",
       "      <td>205.000000</td>\n",
       "      <td>205.000000</td>\n",
       "      <td>205.000000</td>\n",
       "      <td>205.000000</td>\n",
       "      <td>205.000000</td>\n",
       "      <td>205.000000</td>\n",
       "      <td>205.000000</td>\n",
       "      <td>205.000000</td>\n",
       "      <td>205.000000</td>\n",
       "    </tr>\n",
       "    <tr>\n",
       "      <th>mean</th>\n",
       "      <td>0.834146</td>\n",
       "      <td>98.756585</td>\n",
       "      <td>174.049268</td>\n",
       "      <td>65.907805</td>\n",
       "      <td>53.724878</td>\n",
       "      <td>2555.565854</td>\n",
       "      <td>126.907317</td>\n",
       "      <td>3.329756</td>\n",
       "      <td>3.255415</td>\n",
       "      <td>10.142537</td>\n",
       "      <td>104.117073</td>\n",
       "      <td>5125.121951</td>\n",
       "      <td>25.219512</td>\n",
       "      <td>30.751220</td>\n",
       "      <td>13276.710571</td>\n",
       "    </tr>\n",
       "    <tr>\n",
       "      <th>std</th>\n",
       "      <td>1.245307</td>\n",
       "      <td>6.021776</td>\n",
       "      <td>12.337289</td>\n",
       "      <td>2.145204</td>\n",
       "      <td>2.443522</td>\n",
       "      <td>520.680204</td>\n",
       "      <td>41.642693</td>\n",
       "      <td>0.270844</td>\n",
       "      <td>0.313597</td>\n",
       "      <td>3.972040</td>\n",
       "      <td>39.544167</td>\n",
       "      <td>476.985643</td>\n",
       "      <td>6.542142</td>\n",
       "      <td>6.886443</td>\n",
       "      <td>7988.852332</td>\n",
       "    </tr>\n",
       "    <tr>\n",
       "      <th>min</th>\n",
       "      <td>-2.000000</td>\n",
       "      <td>86.600000</td>\n",
       "      <td>141.100000</td>\n",
       "      <td>60.300000</td>\n",
       "      <td>47.800000</td>\n",
       "      <td>1488.000000</td>\n",
       "      <td>61.000000</td>\n",
       "      <td>2.540000</td>\n",
       "      <td>2.070000</td>\n",
       "      <td>7.000000</td>\n",
       "      <td>48.000000</td>\n",
       "      <td>4150.000000</td>\n",
       "      <td>13.000000</td>\n",
       "      <td>16.000000</td>\n",
       "      <td>5118.000000</td>\n",
       "    </tr>\n",
       "    <tr>\n",
       "      <th>25%</th>\n",
       "      <td>0.000000</td>\n",
       "      <td>94.500000</td>\n",
       "      <td>166.300000</td>\n",
       "      <td>64.100000</td>\n",
       "      <td>52.000000</td>\n",
       "      <td>2145.000000</td>\n",
       "      <td>97.000000</td>\n",
       "      <td>3.150000</td>\n",
       "      <td>3.110000</td>\n",
       "      <td>8.600000</td>\n",
       "      <td>70.000000</td>\n",
       "      <td>4800.000000</td>\n",
       "      <td>19.000000</td>\n",
       "      <td>25.000000</td>\n",
       "      <td>7788.000000</td>\n",
       "    </tr>\n",
       "    <tr>\n",
       "      <th>50%</th>\n",
       "      <td>1.000000</td>\n",
       "      <td>97.000000</td>\n",
       "      <td>173.200000</td>\n",
       "      <td>65.500000</td>\n",
       "      <td>54.100000</td>\n",
       "      <td>2414.000000</td>\n",
       "      <td>120.000000</td>\n",
       "      <td>3.310000</td>\n",
       "      <td>3.290000</td>\n",
       "      <td>9.000000</td>\n",
       "      <td>95.000000</td>\n",
       "      <td>5200.000000</td>\n",
       "      <td>24.000000</td>\n",
       "      <td>30.000000</td>\n",
       "      <td>10295.000000</td>\n",
       "    </tr>\n",
       "    <tr>\n",
       "      <th>75%</th>\n",
       "      <td>2.000000</td>\n",
       "      <td>102.400000</td>\n",
       "      <td>183.100000</td>\n",
       "      <td>66.900000</td>\n",
       "      <td>55.500000</td>\n",
       "      <td>2935.000000</td>\n",
       "      <td>141.000000</td>\n",
       "      <td>3.580000</td>\n",
       "      <td>3.410000</td>\n",
       "      <td>9.400000</td>\n",
       "      <td>116.000000</td>\n",
       "      <td>5500.000000</td>\n",
       "      <td>30.000000</td>\n",
       "      <td>34.000000</td>\n",
       "      <td>16503.000000</td>\n",
       "    </tr>\n",
       "    <tr>\n",
       "      <th>max</th>\n",
       "      <td>3.000000</td>\n",
       "      <td>120.900000</td>\n",
       "      <td>208.100000</td>\n",
       "      <td>72.300000</td>\n",
       "      <td>59.800000</td>\n",
       "      <td>4066.000000</td>\n",
       "      <td>326.000000</td>\n",
       "      <td>3.940000</td>\n",
       "      <td>4.170000</td>\n",
       "      <td>23.000000</td>\n",
       "      <td>288.000000</td>\n",
       "      <td>6600.000000</td>\n",
       "      <td>49.000000</td>\n",
       "      <td>54.000000</td>\n",
       "      <td>45400.000000</td>\n",
       "    </tr>\n",
       "  </tbody>\n",
       "</table>\n",
       "</div>"
      ],
      "text/plain": [
       "        symboling   wheelbase   carlength    carwidth   carheight  \\\n",
       "count  205.000000  205.000000  205.000000  205.000000  205.000000   \n",
       "mean     0.834146   98.756585  174.049268   65.907805   53.724878   \n",
       "std      1.245307    6.021776   12.337289    2.145204    2.443522   \n",
       "min     -2.000000   86.600000  141.100000   60.300000   47.800000   \n",
       "25%      0.000000   94.500000  166.300000   64.100000   52.000000   \n",
       "50%      1.000000   97.000000  173.200000   65.500000   54.100000   \n",
       "75%      2.000000  102.400000  183.100000   66.900000   55.500000   \n",
       "max      3.000000  120.900000  208.100000   72.300000   59.800000   \n",
       "\n",
       "        curbweight  enginesize   boreratio      stroke  compressionratio  \\\n",
       "count   205.000000  205.000000  205.000000  205.000000        205.000000   \n",
       "mean   2555.565854  126.907317    3.329756    3.255415         10.142537   \n",
       "std     520.680204   41.642693    0.270844    0.313597          3.972040   \n",
       "min    1488.000000   61.000000    2.540000    2.070000          7.000000   \n",
       "25%    2145.000000   97.000000    3.150000    3.110000          8.600000   \n",
       "50%    2414.000000  120.000000    3.310000    3.290000          9.000000   \n",
       "75%    2935.000000  141.000000    3.580000    3.410000          9.400000   \n",
       "max    4066.000000  326.000000    3.940000    4.170000         23.000000   \n",
       "\n",
       "       horsepower      peakrpm     citympg  highwaympg         price  \n",
       "count  205.000000   205.000000  205.000000  205.000000    205.000000  \n",
       "mean   104.117073  5125.121951   25.219512   30.751220  13276.710571  \n",
       "std     39.544167   476.985643    6.542142    6.886443   7988.852332  \n",
       "min     48.000000  4150.000000   13.000000   16.000000   5118.000000  \n",
       "25%     70.000000  4800.000000   19.000000   25.000000   7788.000000  \n",
       "50%     95.000000  5200.000000   24.000000   30.000000  10295.000000  \n",
       "75%    116.000000  5500.000000   30.000000   34.000000  16503.000000  \n",
       "max    288.000000  6600.000000   49.000000   54.000000  45400.000000  "
      ]
     },
     "execution_count": 7,
     "metadata": {},
     "output_type": "execute_result"
    }
   ],
   "source": [
    "df.describe()"
   ]
  },
  {
   "cell_type": "code",
   "execution_count": 8,
   "metadata": {},
   "outputs": [
    {
     "name": "stdout",
     "output_type": "stream",
     "text": [
      "<class 'pandas.core.frame.DataFrame'>\n",
      "RangeIndex: 205 entries, 0 to 204\n",
      "Data columns (total 25 columns):\n",
      " #   Column            Non-Null Count  Dtype  \n",
      "---  ------            --------------  -----  \n",
      " 0   symboling         205 non-null    int64  \n",
      " 1   make              205 non-null    object \n",
      " 2   fueltype          205 non-null    object \n",
      " 3   aspiration        205 non-null    object \n",
      " 4   doornumber        205 non-null    object \n",
      " 5   carbody           205 non-null    object \n",
      " 6   drivewheel        205 non-null    object \n",
      " 7   enginelocation    205 non-null    object \n",
      " 8   wheelbase         205 non-null    float64\n",
      " 9   carlength         205 non-null    float64\n",
      " 10  carwidth          205 non-null    float64\n",
      " 11  carheight         205 non-null    float64\n",
      " 12  curbweight        205 non-null    int64  \n",
      " 13  enginetype        205 non-null    object \n",
      " 14  cylindernumber    205 non-null    object \n",
      " 15  enginesize        205 non-null    int64  \n",
      " 16  fuelsystem        205 non-null    object \n",
      " 17  boreratio         205 non-null    float64\n",
      " 18  stroke            205 non-null    float64\n",
      " 19  compressionratio  205 non-null    float64\n",
      " 20  horsepower        205 non-null    int64  \n",
      " 21  peakrpm           205 non-null    int64  \n",
      " 22  citympg           205 non-null    int64  \n",
      " 23  highwaympg        205 non-null    int64  \n",
      " 24  price             205 non-null    float64\n",
      "dtypes: float64(8), int64(7), object(10)\n",
      "memory usage: 32.1+ KB\n"
     ]
    }
   ],
   "source": [
    "df.info()"
   ]
  },
  {
   "cell_type": "code",
   "execution_count": 9,
   "metadata": {},
   "outputs": [
    {
     "data": {
      "text/html": [
       "<div>\n",
       "<style scoped>\n",
       "    .dataframe tbody tr th:only-of-type {\n",
       "        vertical-align: middle;\n",
       "    }\n",
       "\n",
       "    .dataframe tbody tr th {\n",
       "        vertical-align: top;\n",
       "    }\n",
       "\n",
       "    .dataframe thead th {\n",
       "        text-align: right;\n",
       "    }\n",
       "</style>\n",
       "<table border=\"1\" class=\"dataframe\">\n",
       "  <thead>\n",
       "    <tr style=\"text-align: right;\">\n",
       "      <th></th>\n",
       "      <th>symboling</th>\n",
       "      <th>make</th>\n",
       "      <th>fueltype</th>\n",
       "      <th>aspiration</th>\n",
       "      <th>doornumber</th>\n",
       "      <th>carbody</th>\n",
       "      <th>drivewheel</th>\n",
       "      <th>enginelocation</th>\n",
       "      <th>wheelbase</th>\n",
       "      <th>carlength</th>\n",
       "      <th>...</th>\n",
       "      <th>enginesize</th>\n",
       "      <th>fuelsystem</th>\n",
       "      <th>boreratio</th>\n",
       "      <th>stroke</th>\n",
       "      <th>compressionratio</th>\n",
       "      <th>horsepower</th>\n",
       "      <th>peakrpm</th>\n",
       "      <th>citympg</th>\n",
       "      <th>highwaympg</th>\n",
       "      <th>price</th>\n",
       "    </tr>\n",
       "  </thead>\n",
       "  <tbody>\n",
       "    <tr>\n",
       "      <th>0</th>\n",
       "      <td>3</td>\n",
       "      <td>alfa-romero giulia</td>\n",
       "      <td>gas</td>\n",
       "      <td>std</td>\n",
       "      <td>two</td>\n",
       "      <td>convertible</td>\n",
       "      <td>rwd</td>\n",
       "      <td>front</td>\n",
       "      <td>88.6</td>\n",
       "      <td>168.8</td>\n",
       "      <td>...</td>\n",
       "      <td>130</td>\n",
       "      <td>mpfi</td>\n",
       "      <td>3.47</td>\n",
       "      <td>2.68</td>\n",
       "      <td>9.0</td>\n",
       "      <td>111</td>\n",
       "      <td>5000</td>\n",
       "      <td>21</td>\n",
       "      <td>27</td>\n",
       "      <td>13495.0</td>\n",
       "    </tr>\n",
       "    <tr>\n",
       "      <th>1</th>\n",
       "      <td>3</td>\n",
       "      <td>alfa-romero stelvio</td>\n",
       "      <td>gas</td>\n",
       "      <td>std</td>\n",
       "      <td>two</td>\n",
       "      <td>convertible</td>\n",
       "      <td>rwd</td>\n",
       "      <td>front</td>\n",
       "      <td>88.6</td>\n",
       "      <td>168.8</td>\n",
       "      <td>...</td>\n",
       "      <td>130</td>\n",
       "      <td>mpfi</td>\n",
       "      <td>3.47</td>\n",
       "      <td>2.68</td>\n",
       "      <td>9.0</td>\n",
       "      <td>111</td>\n",
       "      <td>5000</td>\n",
       "      <td>21</td>\n",
       "      <td>27</td>\n",
       "      <td>16500.0</td>\n",
       "    </tr>\n",
       "    <tr>\n",
       "      <th>2</th>\n",
       "      <td>1</td>\n",
       "      <td>alfa-romero Quadrifoglio</td>\n",
       "      <td>gas</td>\n",
       "      <td>std</td>\n",
       "      <td>two</td>\n",
       "      <td>hatchback</td>\n",
       "      <td>rwd</td>\n",
       "      <td>front</td>\n",
       "      <td>94.5</td>\n",
       "      <td>171.2</td>\n",
       "      <td>...</td>\n",
       "      <td>152</td>\n",
       "      <td>mpfi</td>\n",
       "      <td>2.68</td>\n",
       "      <td>3.47</td>\n",
       "      <td>9.0</td>\n",
       "      <td>154</td>\n",
       "      <td>5000</td>\n",
       "      <td>19</td>\n",
       "      <td>26</td>\n",
       "      <td>16500.0</td>\n",
       "    </tr>\n",
       "    <tr>\n",
       "      <th>3</th>\n",
       "      <td>2</td>\n",
       "      <td>audi 100 ls</td>\n",
       "      <td>gas</td>\n",
       "      <td>std</td>\n",
       "      <td>four</td>\n",
       "      <td>sedan</td>\n",
       "      <td>fwd</td>\n",
       "      <td>front</td>\n",
       "      <td>99.8</td>\n",
       "      <td>176.6</td>\n",
       "      <td>...</td>\n",
       "      <td>109</td>\n",
       "      <td>mpfi</td>\n",
       "      <td>3.19</td>\n",
       "      <td>3.40</td>\n",
       "      <td>10.0</td>\n",
       "      <td>102</td>\n",
       "      <td>5500</td>\n",
       "      <td>24</td>\n",
       "      <td>30</td>\n",
       "      <td>13950.0</td>\n",
       "    </tr>\n",
       "    <tr>\n",
       "      <th>4</th>\n",
       "      <td>2</td>\n",
       "      <td>audi 100ls</td>\n",
       "      <td>gas</td>\n",
       "      <td>std</td>\n",
       "      <td>four</td>\n",
       "      <td>sedan</td>\n",
       "      <td>4wd</td>\n",
       "      <td>front</td>\n",
       "      <td>99.4</td>\n",
       "      <td>176.6</td>\n",
       "      <td>...</td>\n",
       "      <td>136</td>\n",
       "      <td>mpfi</td>\n",
       "      <td>3.19</td>\n",
       "      <td>3.40</td>\n",
       "      <td>8.0</td>\n",
       "      <td>115</td>\n",
       "      <td>5500</td>\n",
       "      <td>18</td>\n",
       "      <td>22</td>\n",
       "      <td>17450.0</td>\n",
       "    </tr>\n",
       "  </tbody>\n",
       "</table>\n",
       "<p>5 rows × 25 columns</p>\n",
       "</div>"
      ],
      "text/plain": [
       "   symboling                      make fueltype aspiration doornumber  \\\n",
       "0          3        alfa-romero giulia      gas        std        two   \n",
       "1          3       alfa-romero stelvio      gas        std        two   \n",
       "2          1  alfa-romero Quadrifoglio      gas        std        two   \n",
       "3          2               audi 100 ls      gas        std       four   \n",
       "4          2                audi 100ls      gas        std       four   \n",
       "\n",
       "       carbody drivewheel enginelocation  wheelbase  carlength  ...  \\\n",
       "0  convertible        rwd          front       88.6      168.8  ...   \n",
       "1  convertible        rwd          front       88.6      168.8  ...   \n",
       "2    hatchback        rwd          front       94.5      171.2  ...   \n",
       "3        sedan        fwd          front       99.8      176.6  ...   \n",
       "4        sedan        4wd          front       99.4      176.6  ...   \n",
       "\n",
       "   enginesize  fuelsystem  boreratio stroke compressionratio  horsepower  \\\n",
       "0         130        mpfi       3.47   2.68              9.0         111   \n",
       "1         130        mpfi       3.47   2.68              9.0         111   \n",
       "2         152        mpfi       2.68   3.47              9.0         154   \n",
       "3         109        mpfi       3.19   3.40             10.0         102   \n",
       "4         136        mpfi       3.19   3.40              8.0         115   \n",
       "\n",
       "  peakrpm  citympg  highwaympg    price  \n",
       "0    5000       21          27  13495.0  \n",
       "1    5000       21          27  16500.0  \n",
       "2    5000       19          26  16500.0  \n",
       "3    5500       24          30  13950.0  \n",
       "4    5500       18          22  17450.0  \n",
       "\n",
       "[5 rows x 25 columns]"
      ]
     },
     "execution_count": 9,
     "metadata": {},
     "output_type": "execute_result"
    }
   ],
   "source": [
    "df.head()"
   ]
  },
  {
   "cell_type": "code",
   "execution_count": 10,
   "metadata": {},
   "outputs": [
    {
     "data": {
      "text/html": [
       "<div>\n",
       "<style scoped>\n",
       "    .dataframe tbody tr th:only-of-type {\n",
       "        vertical-align: middle;\n",
       "    }\n",
       "\n",
       "    .dataframe tbody tr th {\n",
       "        vertical-align: top;\n",
       "    }\n",
       "\n",
       "    .dataframe thead th {\n",
       "        text-align: right;\n",
       "    }\n",
       "</style>\n",
       "<table border=\"1\" class=\"dataframe\">\n",
       "  <thead>\n",
       "    <tr style=\"text-align: right;\">\n",
       "      <th></th>\n",
       "      <th>symboling</th>\n",
       "      <th>wheelbase</th>\n",
       "      <th>carlength</th>\n",
       "      <th>carwidth</th>\n",
       "      <th>carheight</th>\n",
       "      <th>curbweight</th>\n",
       "      <th>enginesize</th>\n",
       "      <th>boreratio</th>\n",
       "      <th>stroke</th>\n",
       "      <th>compressionratio</th>\n",
       "      <th>horsepower</th>\n",
       "      <th>peakrpm</th>\n",
       "      <th>citympg</th>\n",
       "      <th>highwaympg</th>\n",
       "      <th>price</th>\n",
       "    </tr>\n",
       "  </thead>\n",
       "  <tbody>\n",
       "    <tr>\n",
       "      <th>count</th>\n",
       "      <td>205.000000</td>\n",
       "      <td>205.000000</td>\n",
       "      <td>205.000000</td>\n",
       "      <td>205.000000</td>\n",
       "      <td>205.000000</td>\n",
       "      <td>205.000000</td>\n",
       "      <td>205.000000</td>\n",
       "      <td>205.000000</td>\n",
       "      <td>205.000000</td>\n",
       "      <td>205.000000</td>\n",
       "      <td>205.000000</td>\n",
       "      <td>205.000000</td>\n",
       "      <td>205.000000</td>\n",
       "      <td>205.000000</td>\n",
       "      <td>205.000000</td>\n",
       "    </tr>\n",
       "    <tr>\n",
       "      <th>mean</th>\n",
       "      <td>0.834146</td>\n",
       "      <td>98.756585</td>\n",
       "      <td>174.049268</td>\n",
       "      <td>65.907805</td>\n",
       "      <td>53.724878</td>\n",
       "      <td>2555.565854</td>\n",
       "      <td>126.907317</td>\n",
       "      <td>3.329756</td>\n",
       "      <td>3.255415</td>\n",
       "      <td>10.142537</td>\n",
       "      <td>104.117073</td>\n",
       "      <td>5125.121951</td>\n",
       "      <td>25.219512</td>\n",
       "      <td>30.751220</td>\n",
       "      <td>13276.710571</td>\n",
       "    </tr>\n",
       "    <tr>\n",
       "      <th>std</th>\n",
       "      <td>1.245307</td>\n",
       "      <td>6.021776</td>\n",
       "      <td>12.337289</td>\n",
       "      <td>2.145204</td>\n",
       "      <td>2.443522</td>\n",
       "      <td>520.680204</td>\n",
       "      <td>41.642693</td>\n",
       "      <td>0.270844</td>\n",
       "      <td>0.313597</td>\n",
       "      <td>3.972040</td>\n",
       "      <td>39.544167</td>\n",
       "      <td>476.985643</td>\n",
       "      <td>6.542142</td>\n",
       "      <td>6.886443</td>\n",
       "      <td>7988.852332</td>\n",
       "    </tr>\n",
       "    <tr>\n",
       "      <th>min</th>\n",
       "      <td>-2.000000</td>\n",
       "      <td>86.600000</td>\n",
       "      <td>141.100000</td>\n",
       "      <td>60.300000</td>\n",
       "      <td>47.800000</td>\n",
       "      <td>1488.000000</td>\n",
       "      <td>61.000000</td>\n",
       "      <td>2.540000</td>\n",
       "      <td>2.070000</td>\n",
       "      <td>7.000000</td>\n",
       "      <td>48.000000</td>\n",
       "      <td>4150.000000</td>\n",
       "      <td>13.000000</td>\n",
       "      <td>16.000000</td>\n",
       "      <td>5118.000000</td>\n",
       "    </tr>\n",
       "    <tr>\n",
       "      <th>25%</th>\n",
       "      <td>0.000000</td>\n",
       "      <td>94.500000</td>\n",
       "      <td>166.300000</td>\n",
       "      <td>64.100000</td>\n",
       "      <td>52.000000</td>\n",
       "      <td>2145.000000</td>\n",
       "      <td>97.000000</td>\n",
       "      <td>3.150000</td>\n",
       "      <td>3.110000</td>\n",
       "      <td>8.600000</td>\n",
       "      <td>70.000000</td>\n",
       "      <td>4800.000000</td>\n",
       "      <td>19.000000</td>\n",
       "      <td>25.000000</td>\n",
       "      <td>7788.000000</td>\n",
       "    </tr>\n",
       "    <tr>\n",
       "      <th>50%</th>\n",
       "      <td>1.000000</td>\n",
       "      <td>97.000000</td>\n",
       "      <td>173.200000</td>\n",
       "      <td>65.500000</td>\n",
       "      <td>54.100000</td>\n",
       "      <td>2414.000000</td>\n",
       "      <td>120.000000</td>\n",
       "      <td>3.310000</td>\n",
       "      <td>3.290000</td>\n",
       "      <td>9.000000</td>\n",
       "      <td>95.000000</td>\n",
       "      <td>5200.000000</td>\n",
       "      <td>24.000000</td>\n",
       "      <td>30.000000</td>\n",
       "      <td>10295.000000</td>\n",
       "    </tr>\n",
       "    <tr>\n",
       "      <th>75%</th>\n",
       "      <td>2.000000</td>\n",
       "      <td>102.400000</td>\n",
       "      <td>183.100000</td>\n",
       "      <td>66.900000</td>\n",
       "      <td>55.500000</td>\n",
       "      <td>2935.000000</td>\n",
       "      <td>141.000000</td>\n",
       "      <td>3.580000</td>\n",
       "      <td>3.410000</td>\n",
       "      <td>9.400000</td>\n",
       "      <td>116.000000</td>\n",
       "      <td>5500.000000</td>\n",
       "      <td>30.000000</td>\n",
       "      <td>34.000000</td>\n",
       "      <td>16503.000000</td>\n",
       "    </tr>\n",
       "    <tr>\n",
       "      <th>max</th>\n",
       "      <td>3.000000</td>\n",
       "      <td>120.900000</td>\n",
       "      <td>208.100000</td>\n",
       "      <td>72.300000</td>\n",
       "      <td>59.800000</td>\n",
       "      <td>4066.000000</td>\n",
       "      <td>326.000000</td>\n",
       "      <td>3.940000</td>\n",
       "      <td>4.170000</td>\n",
       "      <td>23.000000</td>\n",
       "      <td>288.000000</td>\n",
       "      <td>6600.000000</td>\n",
       "      <td>49.000000</td>\n",
       "      <td>54.000000</td>\n",
       "      <td>45400.000000</td>\n",
       "    </tr>\n",
       "  </tbody>\n",
       "</table>\n",
       "</div>"
      ],
      "text/plain": [
       "        symboling   wheelbase   carlength    carwidth   carheight  \\\n",
       "count  205.000000  205.000000  205.000000  205.000000  205.000000   \n",
       "mean     0.834146   98.756585  174.049268   65.907805   53.724878   \n",
       "std      1.245307    6.021776   12.337289    2.145204    2.443522   \n",
       "min     -2.000000   86.600000  141.100000   60.300000   47.800000   \n",
       "25%      0.000000   94.500000  166.300000   64.100000   52.000000   \n",
       "50%      1.000000   97.000000  173.200000   65.500000   54.100000   \n",
       "75%      2.000000  102.400000  183.100000   66.900000   55.500000   \n",
       "max      3.000000  120.900000  208.100000   72.300000   59.800000   \n",
       "\n",
       "        curbweight  enginesize   boreratio      stroke  compressionratio  \\\n",
       "count   205.000000  205.000000  205.000000  205.000000        205.000000   \n",
       "mean   2555.565854  126.907317    3.329756    3.255415         10.142537   \n",
       "std     520.680204   41.642693    0.270844    0.313597          3.972040   \n",
       "min    1488.000000   61.000000    2.540000    2.070000          7.000000   \n",
       "25%    2145.000000   97.000000    3.150000    3.110000          8.600000   \n",
       "50%    2414.000000  120.000000    3.310000    3.290000          9.000000   \n",
       "75%    2935.000000  141.000000    3.580000    3.410000          9.400000   \n",
       "max    4066.000000  326.000000    3.940000    4.170000         23.000000   \n",
       "\n",
       "       horsepower      peakrpm     citympg  highwaympg         price  \n",
       "count  205.000000   205.000000  205.000000  205.000000    205.000000  \n",
       "mean   104.117073  5125.121951   25.219512   30.751220  13276.710571  \n",
       "std     39.544167   476.985643    6.542142    6.886443   7988.852332  \n",
       "min     48.000000  4150.000000   13.000000   16.000000   5118.000000  \n",
       "25%     70.000000  4800.000000   19.000000   25.000000   7788.000000  \n",
       "50%     95.000000  5200.000000   24.000000   30.000000  10295.000000  \n",
       "75%    116.000000  5500.000000   30.000000   34.000000  16503.000000  \n",
       "max    288.000000  6600.000000   49.000000   54.000000  45400.000000  "
      ]
     },
     "execution_count": 10,
     "metadata": {},
     "output_type": "execute_result"
    }
   ],
   "source": [
    "df.describe()"
   ]
  },
  {
   "cell_type": "code",
   "execution_count": 11,
   "metadata": {},
   "outputs": [
    {
     "data": {
      "text/html": [
       "<div>\n",
       "<style scoped>\n",
       "    .dataframe tbody tr th:only-of-type {\n",
       "        vertical-align: middle;\n",
       "    }\n",
       "\n",
       "    .dataframe tbody tr th {\n",
       "        vertical-align: top;\n",
       "    }\n",
       "\n",
       "    .dataframe thead th {\n",
       "        text-align: right;\n",
       "    }\n",
       "</style>\n",
       "<table border=\"1\" class=\"dataframe\">\n",
       "  <thead>\n",
       "    <tr style=\"text-align: right;\">\n",
       "      <th></th>\n",
       "      <th>make</th>\n",
       "      <th>fueltype</th>\n",
       "      <th>aspiration</th>\n",
       "      <th>doornumber</th>\n",
       "      <th>carbody</th>\n",
       "      <th>drivewheel</th>\n",
       "      <th>enginelocation</th>\n",
       "      <th>enginetype</th>\n",
       "      <th>cylindernumber</th>\n",
       "      <th>fuelsystem</th>\n",
       "    </tr>\n",
       "  </thead>\n",
       "  <tbody>\n",
       "    <tr>\n",
       "      <th>count</th>\n",
       "      <td>205</td>\n",
       "      <td>205</td>\n",
       "      <td>205</td>\n",
       "      <td>205</td>\n",
       "      <td>205</td>\n",
       "      <td>205</td>\n",
       "      <td>205</td>\n",
       "      <td>205</td>\n",
       "      <td>205</td>\n",
       "      <td>205</td>\n",
       "    </tr>\n",
       "    <tr>\n",
       "      <th>unique</th>\n",
       "      <td>147</td>\n",
       "      <td>2</td>\n",
       "      <td>2</td>\n",
       "      <td>2</td>\n",
       "      <td>5</td>\n",
       "      <td>3</td>\n",
       "      <td>2</td>\n",
       "      <td>7</td>\n",
       "      <td>7</td>\n",
       "      <td>8</td>\n",
       "    </tr>\n",
       "    <tr>\n",
       "      <th>top</th>\n",
       "      <td>peugeot 504</td>\n",
       "      <td>gas</td>\n",
       "      <td>std</td>\n",
       "      <td>four</td>\n",
       "      <td>sedan</td>\n",
       "      <td>fwd</td>\n",
       "      <td>front</td>\n",
       "      <td>ohc</td>\n",
       "      <td>four</td>\n",
       "      <td>mpfi</td>\n",
       "    </tr>\n",
       "    <tr>\n",
       "      <th>freq</th>\n",
       "      <td>6</td>\n",
       "      <td>185</td>\n",
       "      <td>168</td>\n",
       "      <td>115</td>\n",
       "      <td>96</td>\n",
       "      <td>120</td>\n",
       "      <td>202</td>\n",
       "      <td>148</td>\n",
       "      <td>159</td>\n",
       "      <td>94</td>\n",
       "    </tr>\n",
       "  </tbody>\n",
       "</table>\n",
       "</div>"
      ],
      "text/plain": [
       "               make fueltype aspiration doornumber carbody drivewheel  \\\n",
       "count           205      205        205        205     205        205   \n",
       "unique          147        2          2          2       5          3   \n",
       "top     peugeot 504      gas        std       four   sedan        fwd   \n",
       "freq              6      185        168        115      96        120   \n",
       "\n",
       "       enginelocation enginetype cylindernumber fuelsystem  \n",
       "count             205        205            205        205  \n",
       "unique              2          7              7          8  \n",
       "top             front        ohc           four       mpfi  \n",
       "freq              202        148            159         94  "
      ]
     },
     "execution_count": 11,
     "metadata": {},
     "output_type": "execute_result"
    }
   ],
   "source": [
    "df.describe(include=['object'])"
   ]
  },
  {
   "cell_type": "markdown",
   "metadata": {},
   "source": [
    "## Checking with correlation"
   ]
  },
  {
   "cell_type": "code",
   "execution_count": 12,
   "metadata": {},
   "outputs": [
    {
     "data": {
      "text/html": [
       "<div>\n",
       "<style scoped>\n",
       "    .dataframe tbody tr th:only-of-type {\n",
       "        vertical-align: middle;\n",
       "    }\n",
       "\n",
       "    .dataframe tbody tr th {\n",
       "        vertical-align: top;\n",
       "    }\n",
       "\n",
       "    .dataframe thead th {\n",
       "        text-align: right;\n",
       "    }\n",
       "</style>\n",
       "<table border=\"1\" class=\"dataframe\">\n",
       "  <thead>\n",
       "    <tr style=\"text-align: right;\">\n",
       "      <th></th>\n",
       "      <th>symboling</th>\n",
       "      <th>wheelbase</th>\n",
       "      <th>carlength</th>\n",
       "      <th>carwidth</th>\n",
       "      <th>carheight</th>\n",
       "      <th>curbweight</th>\n",
       "      <th>enginesize</th>\n",
       "      <th>boreratio</th>\n",
       "      <th>stroke</th>\n",
       "      <th>compressionratio</th>\n",
       "      <th>horsepower</th>\n",
       "      <th>peakrpm</th>\n",
       "      <th>citympg</th>\n",
       "      <th>highwaympg</th>\n",
       "      <th>price</th>\n",
       "    </tr>\n",
       "  </thead>\n",
       "  <tbody>\n",
       "    <tr>\n",
       "      <th>symboling</th>\n",
       "      <td>1.000000</td>\n",
       "      <td>-0.531954</td>\n",
       "      <td>-0.357612</td>\n",
       "      <td>-0.232919</td>\n",
       "      <td>-0.541038</td>\n",
       "      <td>-0.227691</td>\n",
       "      <td>-0.105790</td>\n",
       "      <td>-0.130051</td>\n",
       "      <td>-0.008735</td>\n",
       "      <td>-0.178515</td>\n",
       "      <td>0.070873</td>\n",
       "      <td>0.273606</td>\n",
       "      <td>-0.035823</td>\n",
       "      <td>0.034606</td>\n",
       "      <td>-0.079978</td>\n",
       "    </tr>\n",
       "    <tr>\n",
       "      <th>wheelbase</th>\n",
       "      <td>-0.531954</td>\n",
       "      <td>1.000000</td>\n",
       "      <td>0.874587</td>\n",
       "      <td>0.795144</td>\n",
       "      <td>0.589435</td>\n",
       "      <td>0.776386</td>\n",
       "      <td>0.569329</td>\n",
       "      <td>0.488750</td>\n",
       "      <td>0.160959</td>\n",
       "      <td>0.249786</td>\n",
       "      <td>0.353294</td>\n",
       "      <td>-0.360469</td>\n",
       "      <td>-0.470414</td>\n",
       "      <td>-0.544082</td>\n",
       "      <td>0.577816</td>\n",
       "    </tr>\n",
       "    <tr>\n",
       "      <th>carlength</th>\n",
       "      <td>-0.357612</td>\n",
       "      <td>0.874587</td>\n",
       "      <td>1.000000</td>\n",
       "      <td>0.841118</td>\n",
       "      <td>0.491029</td>\n",
       "      <td>0.877728</td>\n",
       "      <td>0.683360</td>\n",
       "      <td>0.606454</td>\n",
       "      <td>0.129533</td>\n",
       "      <td>0.158414</td>\n",
       "      <td>0.552623</td>\n",
       "      <td>-0.287242</td>\n",
       "      <td>-0.670909</td>\n",
       "      <td>-0.704662</td>\n",
       "      <td>0.682920</td>\n",
       "    </tr>\n",
       "    <tr>\n",
       "      <th>carwidth</th>\n",
       "      <td>-0.232919</td>\n",
       "      <td>0.795144</td>\n",
       "      <td>0.841118</td>\n",
       "      <td>1.000000</td>\n",
       "      <td>0.279210</td>\n",
       "      <td>0.867032</td>\n",
       "      <td>0.735433</td>\n",
       "      <td>0.559150</td>\n",
       "      <td>0.182942</td>\n",
       "      <td>0.181129</td>\n",
       "      <td>0.640732</td>\n",
       "      <td>-0.220012</td>\n",
       "      <td>-0.642704</td>\n",
       "      <td>-0.677218</td>\n",
       "      <td>0.759325</td>\n",
       "    </tr>\n",
       "    <tr>\n",
       "      <th>carheight</th>\n",
       "      <td>-0.541038</td>\n",
       "      <td>0.589435</td>\n",
       "      <td>0.491029</td>\n",
       "      <td>0.279210</td>\n",
       "      <td>1.000000</td>\n",
       "      <td>0.295572</td>\n",
       "      <td>0.067149</td>\n",
       "      <td>0.171071</td>\n",
       "      <td>-0.055307</td>\n",
       "      <td>0.261214</td>\n",
       "      <td>-0.108802</td>\n",
       "      <td>-0.320411</td>\n",
       "      <td>-0.048640</td>\n",
       "      <td>-0.107358</td>\n",
       "      <td>0.119336</td>\n",
       "    </tr>\n",
       "    <tr>\n",
       "      <th>curbweight</th>\n",
       "      <td>-0.227691</td>\n",
       "      <td>0.776386</td>\n",
       "      <td>0.877728</td>\n",
       "      <td>0.867032</td>\n",
       "      <td>0.295572</td>\n",
       "      <td>1.000000</td>\n",
       "      <td>0.850594</td>\n",
       "      <td>0.648480</td>\n",
       "      <td>0.168790</td>\n",
       "      <td>0.151362</td>\n",
       "      <td>0.750739</td>\n",
       "      <td>-0.266243</td>\n",
       "      <td>-0.757414</td>\n",
       "      <td>-0.797465</td>\n",
       "      <td>0.835305</td>\n",
       "    </tr>\n",
       "    <tr>\n",
       "      <th>enginesize</th>\n",
       "      <td>-0.105790</td>\n",
       "      <td>0.569329</td>\n",
       "      <td>0.683360</td>\n",
       "      <td>0.735433</td>\n",
       "      <td>0.067149</td>\n",
       "      <td>0.850594</td>\n",
       "      <td>1.000000</td>\n",
       "      <td>0.583774</td>\n",
       "      <td>0.203129</td>\n",
       "      <td>0.028971</td>\n",
       "      <td>0.809769</td>\n",
       "      <td>-0.244660</td>\n",
       "      <td>-0.653658</td>\n",
       "      <td>-0.677470</td>\n",
       "      <td>0.874145</td>\n",
       "    </tr>\n",
       "    <tr>\n",
       "      <th>boreratio</th>\n",
       "      <td>-0.130051</td>\n",
       "      <td>0.488750</td>\n",
       "      <td>0.606454</td>\n",
       "      <td>0.559150</td>\n",
       "      <td>0.171071</td>\n",
       "      <td>0.648480</td>\n",
       "      <td>0.583774</td>\n",
       "      <td>1.000000</td>\n",
       "      <td>-0.055909</td>\n",
       "      <td>0.005197</td>\n",
       "      <td>0.573677</td>\n",
       "      <td>-0.254976</td>\n",
       "      <td>-0.584532</td>\n",
       "      <td>-0.587012</td>\n",
       "      <td>0.553173</td>\n",
       "    </tr>\n",
       "    <tr>\n",
       "      <th>stroke</th>\n",
       "      <td>-0.008735</td>\n",
       "      <td>0.160959</td>\n",
       "      <td>0.129533</td>\n",
       "      <td>0.182942</td>\n",
       "      <td>-0.055307</td>\n",
       "      <td>0.168790</td>\n",
       "      <td>0.203129</td>\n",
       "      <td>-0.055909</td>\n",
       "      <td>1.000000</td>\n",
       "      <td>0.186110</td>\n",
       "      <td>0.080940</td>\n",
       "      <td>-0.067964</td>\n",
       "      <td>-0.042145</td>\n",
       "      <td>-0.043931</td>\n",
       "      <td>0.079443</td>\n",
       "    </tr>\n",
       "    <tr>\n",
       "      <th>compressionratio</th>\n",
       "      <td>-0.178515</td>\n",
       "      <td>0.249786</td>\n",
       "      <td>0.158414</td>\n",
       "      <td>0.181129</td>\n",
       "      <td>0.261214</td>\n",
       "      <td>0.151362</td>\n",
       "      <td>0.028971</td>\n",
       "      <td>0.005197</td>\n",
       "      <td>0.186110</td>\n",
       "      <td>1.000000</td>\n",
       "      <td>-0.204326</td>\n",
       "      <td>-0.435741</td>\n",
       "      <td>0.324701</td>\n",
       "      <td>0.265201</td>\n",
       "      <td>0.067984</td>\n",
       "    </tr>\n",
       "    <tr>\n",
       "      <th>horsepower</th>\n",
       "      <td>0.070873</td>\n",
       "      <td>0.353294</td>\n",
       "      <td>0.552623</td>\n",
       "      <td>0.640732</td>\n",
       "      <td>-0.108802</td>\n",
       "      <td>0.750739</td>\n",
       "      <td>0.809769</td>\n",
       "      <td>0.573677</td>\n",
       "      <td>0.080940</td>\n",
       "      <td>-0.204326</td>\n",
       "      <td>1.000000</td>\n",
       "      <td>0.131073</td>\n",
       "      <td>-0.801456</td>\n",
       "      <td>-0.770544</td>\n",
       "      <td>0.808139</td>\n",
       "    </tr>\n",
       "    <tr>\n",
       "      <th>peakrpm</th>\n",
       "      <td>0.273606</td>\n",
       "      <td>-0.360469</td>\n",
       "      <td>-0.287242</td>\n",
       "      <td>-0.220012</td>\n",
       "      <td>-0.320411</td>\n",
       "      <td>-0.266243</td>\n",
       "      <td>-0.244660</td>\n",
       "      <td>-0.254976</td>\n",
       "      <td>-0.067964</td>\n",
       "      <td>-0.435741</td>\n",
       "      <td>0.131073</td>\n",
       "      <td>1.000000</td>\n",
       "      <td>-0.113544</td>\n",
       "      <td>-0.054275</td>\n",
       "      <td>-0.085267</td>\n",
       "    </tr>\n",
       "    <tr>\n",
       "      <th>citympg</th>\n",
       "      <td>-0.035823</td>\n",
       "      <td>-0.470414</td>\n",
       "      <td>-0.670909</td>\n",
       "      <td>-0.642704</td>\n",
       "      <td>-0.048640</td>\n",
       "      <td>-0.757414</td>\n",
       "      <td>-0.653658</td>\n",
       "      <td>-0.584532</td>\n",
       "      <td>-0.042145</td>\n",
       "      <td>0.324701</td>\n",
       "      <td>-0.801456</td>\n",
       "      <td>-0.113544</td>\n",
       "      <td>1.000000</td>\n",
       "      <td>0.971337</td>\n",
       "      <td>-0.685751</td>\n",
       "    </tr>\n",
       "    <tr>\n",
       "      <th>highwaympg</th>\n",
       "      <td>0.034606</td>\n",
       "      <td>-0.544082</td>\n",
       "      <td>-0.704662</td>\n",
       "      <td>-0.677218</td>\n",
       "      <td>-0.107358</td>\n",
       "      <td>-0.797465</td>\n",
       "      <td>-0.677470</td>\n",
       "      <td>-0.587012</td>\n",
       "      <td>-0.043931</td>\n",
       "      <td>0.265201</td>\n",
       "      <td>-0.770544</td>\n",
       "      <td>-0.054275</td>\n",
       "      <td>0.971337</td>\n",
       "      <td>1.000000</td>\n",
       "      <td>-0.697599</td>\n",
       "    </tr>\n",
       "    <tr>\n",
       "      <th>price</th>\n",
       "      <td>-0.079978</td>\n",
       "      <td>0.577816</td>\n",
       "      <td>0.682920</td>\n",
       "      <td>0.759325</td>\n",
       "      <td>0.119336</td>\n",
       "      <td>0.835305</td>\n",
       "      <td>0.874145</td>\n",
       "      <td>0.553173</td>\n",
       "      <td>0.079443</td>\n",
       "      <td>0.067984</td>\n",
       "      <td>0.808139</td>\n",
       "      <td>-0.085267</td>\n",
       "      <td>-0.685751</td>\n",
       "      <td>-0.697599</td>\n",
       "      <td>1.000000</td>\n",
       "    </tr>\n",
       "  </tbody>\n",
       "</table>\n",
       "</div>"
      ],
      "text/plain": [
       "                  symboling  wheelbase  carlength  carwidth  carheight  \\\n",
       "symboling          1.000000  -0.531954  -0.357612 -0.232919  -0.541038   \n",
       "wheelbase         -0.531954   1.000000   0.874587  0.795144   0.589435   \n",
       "carlength         -0.357612   0.874587   1.000000  0.841118   0.491029   \n",
       "carwidth          -0.232919   0.795144   0.841118  1.000000   0.279210   \n",
       "carheight         -0.541038   0.589435   0.491029  0.279210   1.000000   \n",
       "curbweight        -0.227691   0.776386   0.877728  0.867032   0.295572   \n",
       "enginesize        -0.105790   0.569329   0.683360  0.735433   0.067149   \n",
       "boreratio         -0.130051   0.488750   0.606454  0.559150   0.171071   \n",
       "stroke            -0.008735   0.160959   0.129533  0.182942  -0.055307   \n",
       "compressionratio  -0.178515   0.249786   0.158414  0.181129   0.261214   \n",
       "horsepower         0.070873   0.353294   0.552623  0.640732  -0.108802   \n",
       "peakrpm            0.273606  -0.360469  -0.287242 -0.220012  -0.320411   \n",
       "citympg           -0.035823  -0.470414  -0.670909 -0.642704  -0.048640   \n",
       "highwaympg         0.034606  -0.544082  -0.704662 -0.677218  -0.107358   \n",
       "price             -0.079978   0.577816   0.682920  0.759325   0.119336   \n",
       "\n",
       "                  curbweight  enginesize  boreratio    stroke  \\\n",
       "symboling          -0.227691   -0.105790  -0.130051 -0.008735   \n",
       "wheelbase           0.776386    0.569329   0.488750  0.160959   \n",
       "carlength           0.877728    0.683360   0.606454  0.129533   \n",
       "carwidth            0.867032    0.735433   0.559150  0.182942   \n",
       "carheight           0.295572    0.067149   0.171071 -0.055307   \n",
       "curbweight          1.000000    0.850594   0.648480  0.168790   \n",
       "enginesize          0.850594    1.000000   0.583774  0.203129   \n",
       "boreratio           0.648480    0.583774   1.000000 -0.055909   \n",
       "stroke              0.168790    0.203129  -0.055909  1.000000   \n",
       "compressionratio    0.151362    0.028971   0.005197  0.186110   \n",
       "horsepower          0.750739    0.809769   0.573677  0.080940   \n",
       "peakrpm            -0.266243   -0.244660  -0.254976 -0.067964   \n",
       "citympg            -0.757414   -0.653658  -0.584532 -0.042145   \n",
       "highwaympg         -0.797465   -0.677470  -0.587012 -0.043931   \n",
       "price               0.835305    0.874145   0.553173  0.079443   \n",
       "\n",
       "                  compressionratio  horsepower   peakrpm   citympg  \\\n",
       "symboling                -0.178515    0.070873  0.273606 -0.035823   \n",
       "wheelbase                 0.249786    0.353294 -0.360469 -0.470414   \n",
       "carlength                 0.158414    0.552623 -0.287242 -0.670909   \n",
       "carwidth                  0.181129    0.640732 -0.220012 -0.642704   \n",
       "carheight                 0.261214   -0.108802 -0.320411 -0.048640   \n",
       "curbweight                0.151362    0.750739 -0.266243 -0.757414   \n",
       "enginesize                0.028971    0.809769 -0.244660 -0.653658   \n",
       "boreratio                 0.005197    0.573677 -0.254976 -0.584532   \n",
       "stroke                    0.186110    0.080940 -0.067964 -0.042145   \n",
       "compressionratio          1.000000   -0.204326 -0.435741  0.324701   \n",
       "horsepower               -0.204326    1.000000  0.131073 -0.801456   \n",
       "peakrpm                  -0.435741    0.131073  1.000000 -0.113544   \n",
       "citympg                   0.324701   -0.801456 -0.113544  1.000000   \n",
       "highwaympg                0.265201   -0.770544 -0.054275  0.971337   \n",
       "price                     0.067984    0.808139 -0.085267 -0.685751   \n",
       "\n",
       "                  highwaympg     price  \n",
       "symboling           0.034606 -0.079978  \n",
       "wheelbase          -0.544082  0.577816  \n",
       "carlength          -0.704662  0.682920  \n",
       "carwidth           -0.677218  0.759325  \n",
       "carheight          -0.107358  0.119336  \n",
       "curbweight         -0.797465  0.835305  \n",
       "enginesize         -0.677470  0.874145  \n",
       "boreratio          -0.587012  0.553173  \n",
       "stroke             -0.043931  0.079443  \n",
       "compressionratio    0.265201  0.067984  \n",
       "horsepower         -0.770544  0.808139  \n",
       "peakrpm            -0.054275 -0.085267  \n",
       "citympg             0.971337 -0.685751  \n",
       "highwaympg          1.000000 -0.697599  \n",
       "price              -0.697599  1.000000  "
      ]
     },
     "execution_count": 12,
     "metadata": {},
     "output_type": "execute_result"
    }
   ],
   "source": [
    "df.corr()"
   ]
  },
  {
   "cell_type": "code",
   "execution_count": 13,
   "metadata": {},
   "outputs": [
    {
     "data": {
      "text/plain": [
       "<AxesSubplot:>"
      ]
     },
     "execution_count": 13,
     "metadata": {},
     "output_type": "execute_result"
    },
    {
     "data": {
      "image/png": "[encoded data removed]",
      "text/plain": [
       "<Figure size 1152x720 with 2 Axes>"
      ]
     },
     "metadata": {
      "needs_background": "light"
     },
     "output_type": "display_data"
    }
   ],
   "source": [
    "fig = plt.gcf()\n",
    "fig.set_size_inches(16, 10)\n",
    "sns.heatmap(df.corr(), annot = True)"
   ]
  },
  {
   "cell_type": "markdown",
   "metadata": {},
   "source": [
    "### >>> from the above heatmap we can identify the positive and negative correlation of all the features with Price "
   ]
  },
  {
   "cell_type": "code",
   "execution_count": null,
   "metadata": {},
   "outputs": [],
   "source": []
  },
  {
   "cell_type": "code",
   "execution_count": null,
   "metadata": {},
   "outputs": [],
   "source": []
  },
  {
   "cell_type": "markdown",
   "metadata": {},
   "source": [
    "##  for better understand we can check with pearson-correlation and p value as below"
   ]
  },
  {
   "cell_type": "code",
   "execution_count": 14,
   "metadata": {},
   "outputs": [],
   "source": [
    "from scipy import stats"
   ]
  },
  {
   "cell_type": "code",
   "execution_count": 15,
   "metadata": {},
   "outputs": [
    {
     "name": "stdout",
     "output_type": "stream",
     "text": [
      "The Pearson Correlation Coefficient is -0.07997822464270346  with a P-value of P = 0.25431175848636967\n"
     ]
    }
   ],
   "source": [
    "pearson_coef, p_value = stats.pearsonr(df['symboling'], df['price'])\n",
    "print(\"The Pearson Correlation Coefficient is\", pearson_coef, \" with a P-value of P =\", p_value) "
   ]
  },
  {
   "cell_type": "code",
   "execution_count": 16,
   "metadata": {},
   "outputs": [
    {
     "name": "stdout",
     "output_type": "stream",
     "text": [
      "The Pearson Correlation Coefficient is 0.8081388225362216  with a P-value of P = 1.4834365732941758e-48\n"
     ]
    }
   ],
   "source": [
    "pearson_coef, p_value = stats.pearsonr(df['horsepower'], df['price'])\n",
    "print(\"The Pearson Correlation Coefficient is\", pearson_coef, \" with a P-value of P =\", p_value)  "
   ]
  },
  {
   "cell_type": "code",
   "execution_count": 17,
   "metadata": {},
   "outputs": [
    {
     "name": "stdout",
     "output_type": "stream",
     "text": [
      "The Pearson Correlation Coefficient is 0.5778155982921501  with a P-value of P = 1.1828204863377837e-19\n"
     ]
    }
   ],
   "source": [
    "pearson_coef, p_value = stats.pearsonr(df['wheelbase'], df['price'])\n",
    "print(\"The Pearson Correlation Coefficient is\", pearson_coef, \" with a P-value of P =\", p_value)  "
   ]
  },
  {
   "cell_type": "code",
   "execution_count": 18,
   "metadata": {},
   "outputs": [
    {
     "name": "stdout",
     "output_type": "stream",
     "text": [
      "The Pearson Correlation Coefficient is 0.6829200156779621  with a P-value of P = 1.678706624074708e-29\n"
     ]
    }
   ],
   "source": [
    "pearson_coef, p_value = stats.pearsonr(df['carlength'], df['price'])\n",
    "print(\"The Pearson Correlation Coefficient is\", pearson_coef, \" with a P-value of P =\", p_value)  "
   ]
  },
  {
   "cell_type": "code",
   "execution_count": 19,
   "metadata": {},
   "outputs": [
    {
     "name": "stdout",
     "output_type": "stream",
     "text": [
      "The Pearson Correlation Coefficient is 0.11933622657049445  with a P-value of P = 0.08832832352275669\n"
     ]
    }
   ],
   "source": [
    "pearson_coef, p_value = stats.pearsonr(df['carheight'], df['price'])\n",
    "print(\"The Pearson Correlation Coefficient is\", pearson_coef, \" with a P-value of P =\", p_value)  "
   ]
  },
  {
   "cell_type": "code",
   "execution_count": 20,
   "metadata": {},
   "outputs": [
    {
     "name": "stdout",
     "output_type": "stream",
     "text": [
      "The Pearson Correlation Coefficient is 0.8353048793372966  with a P-value of P = 1.2144448264032206e-54\n"
     ]
    }
   ],
   "source": [
    "pearson_coef, p_value = stats.pearsonr(df['curbweight'], df['price'])\n",
    "print(\"The Pearson Correlation Coefficient is\", pearson_coef, \" with a P-value of P =\", p_value)  "
   ]
  },
  {
   "cell_type": "code",
   "execution_count": 21,
   "metadata": {},
   "outputs": [
    {
     "name": "stdout",
     "output_type": "stream",
     "text": [
      "The Pearson Correlation Coefficient is 0.7593252997415113  with a P-value of P = 9.627437876120389e-40\n"
     ]
    }
   ],
   "source": [
    "pearson_coef, p_value = stats.pearsonr(df['carwidth'], df['price'])\n",
    "print(\"The Pearson Correlation Coefficient is\", pearson_coef, \" with a P-value of P =\", p_value)  "
   ]
  },
  {
   "cell_type": "code",
   "execution_count": 22,
   "metadata": {},
   "outputs": [
    {
     "name": "stdout",
     "output_type": "stream",
     "text": [
      "The Pearson Correlation Coefficient is 0.8741448025245117  with a P-value of P = 1.3547637598648421e-65\n"
     ]
    }
   ],
   "source": [
    "pearson_coef, p_value = stats.pearsonr(df['enginesize'], df['price'])\n",
    "print(\"The Pearson Correlation Coefficient is\", pearson_coef, \" with a P-value of P =\", p_value)  "
   ]
  },
  {
   "cell_type": "code",
   "execution_count": 23,
   "metadata": {},
   "outputs": [
    {
     "name": "stdout",
     "output_type": "stream",
     "text": [
      "The Pearson Correlation Coefficient is 0.5531732367984437  with a P-value of P = 7.907922278249421e-18\n"
     ]
    }
   ],
   "source": [
    "pearson_coef, p_value = stats.pearsonr(df['boreratio'], df['price'])\n",
    "print(\"The Pearson Correlation Coefficient is\", pearson_coef, \" with a P-value of P =\", p_value)  "
   ]
  },
  {
   "cell_type": "code",
   "execution_count": 24,
   "metadata": {},
   "outputs": [
    {
     "name": "stdout",
     "output_type": "stream",
     "text": [
      "The Pearson Correlation Coefficient is 0.079443083881931  with a P-value of P = 0.2575137159091036\n"
     ]
    }
   ],
   "source": [
    "pearson_coef, p_value = stats.pearsonr(df['stroke'], df['price'])\n",
    "print(\"The Pearson Correlation Coefficient is\", pearson_coef, \" with a P-value of P =\", p_value)  "
   ]
  },
  {
   "cell_type": "code",
   "execution_count": 25,
   "metadata": {},
   "outputs": [
    {
     "name": "stdout",
     "output_type": "stream",
     "text": [
      "The Pearson Correlation Coefficient is 0.06798350579944264  with a P-value of P = 0.3327723612238307\n"
     ]
    }
   ],
   "source": [
    "pearson_coef, p_value = stats.pearsonr(df['compressionratio'], df['price'])\n",
    "print(\"The Pearson Correlation Coefficient is\", pearson_coef, \" with a P-value of P =\", p_value)  "
   ]
  },
  {
   "cell_type": "code",
   "execution_count": 26,
   "metadata": {},
   "outputs": [
    {
     "name": "stdout",
     "output_type": "stream",
     "text": [
      "The Pearson Correlation Coefficient is -0.08526715027785685  with a P-value of P = 0.22414123444667844\n"
     ]
    }
   ],
   "source": [
    "pearson_coef, p_value = stats.pearsonr(df['peakrpm'], df['price'])\n",
    "print(\"The Pearson Correlation Coefficient is\", pearson_coef, \" with a P-value of P =\", p_value)  "
   ]
  },
  {
   "cell_type": "code",
   "execution_count": 27,
   "metadata": {},
   "outputs": [
    {
     "name": "stdout",
     "output_type": "stream",
     "text": [
      "The Pearson Correlation Coefficient is -0.6857513360270399  with a P-value of P = 7.978684249663522e-30\n"
     ]
    }
   ],
   "source": [
    "pearson_coef, p_value = stats.pearsonr(df['citympg'], df['price'])\n",
    "print(\"The Pearson Correlation Coefficient is\", pearson_coef, \" with a P-value of P =\", p_value)"
   ]
  },
  {
   "cell_type": "code",
   "execution_count": 28,
   "metadata": {},
   "outputs": [
    {
     "name": "stdout",
     "output_type": "stream",
     "text": [
      "The Pearson Correlation Coefficient is -0.6975990916465564  with a P-value of P = 3.230681380364601e-31\n"
     ]
    }
   ],
   "source": [
    "pearson_coef, p_value = stats.pearsonr(df['highwaympg'], df['price'])\n",
    "print(\"The Pearson Correlation Coefficient is\", pearson_coef, \" with a P-value of P =\", p_value)"
   ]
  },
  {
   "cell_type": "markdown",
   "metadata": {},
   "source": [
    "#### From above corelation and p-value we can identity that all the below features are highly correlated \n",
    "    horsepower, \n",
    "    wheelbase, \n",
    "    carlength, \n",
    "    curbweight, \n",
    "    carwidth, \n",
    "    enginesize, \n",
    "    boreratio, \n",
    "    citympg, \n",
    "    highwaympg \n",
    "    "
   ]
  },
  {
   "cell_type": "markdown",
   "metadata": {},
   "source": [
    "### Lets drop the features which are not highly correlated \n",
    "### AND\n",
    "### visualize the features which are highly correlated and see the the plots"
   ]
  },
  {
   "cell_type": "code",
   "execution_count": 29,
   "metadata": {},
   "outputs": [],
   "source": [
    "df.drop(['symboling', 'carheight', 'stroke', 'compressionratio', 'peakrpm'], axis = 1, inplace =True)"
   ]
  },
  {
   "cell_type": "markdown",
   "metadata": {},
   "source": [
    "## plot of \"horsepower\" and \"price\""
   ]
  },
  {
   "cell_type": "code",
   "execution_count": 30,
   "metadata": {},
   "outputs": [
    {
     "data": {
      "text/plain": [
       "<AxesSubplot:xlabel='horsepower', ylabel='price'>"
      ]
     },
     "execution_count": 30,
     "metadata": {},
     "output_type": "execute_result"
    },
    {
     "data": {
      "image/png": "[encoded data removed]",
      "text/plain": [
       "<Figure size 432x288 with 1 Axes>"
      ]
     },
     "metadata": {
      "needs_background": "light"
     },
     "output_type": "display_data"
    }
   ],
   "source": [
    "sns.regplot(x=\"horsepower\", y=\"price\", data=df)"
   ]
  },
  {
   "cell_type": "markdown",
   "metadata": {},
   "source": [
    "## plot of \"wheelbase\" and \"price\""
   ]
  },
  {
   "cell_type": "code",
   "execution_count": 31,
   "metadata": {},
   "outputs": [
    {
     "data": {
      "text/plain": [
       "<AxesSubplot:xlabel='wheelbase', ylabel='price'>"
      ]
     },
     "execution_count": 31,
     "metadata": {},
     "output_type": "execute_result"
    },
    {
     "data": {
      "image/png": "[encoded data removed]",
      "text/plain": [
       "<Figure size 432x288 with 1 Axes>"
      ]
     },
     "metadata": {
      "needs_background": "light"
     },
     "output_type": "display_data"
    }
   ],
   "source": [
    "sns.regplot(x=\"wheelbase\", y=\"price\", data=df)"
   ]
  },
  {
   "cell_type": "markdown",
   "metadata": {},
   "source": [
    "## plot of \"carlength\" and \"price\""
   ]
  },
  {
   "cell_type": "code",
   "execution_count": 32,
   "metadata": {},
   "outputs": [
    {
     "data": {
      "text/plain": [
       "<AxesSubplot:xlabel='carlength', ylabel='price'>"
      ]
     },
     "execution_count": 32,
     "metadata": {},
     "output_type": "execute_result"
    },
    {
     "data": {
      "image/png": "[encoded data removed]",
      "text/plain": [
       "<Figure size 432x288 with 1 Axes>"
      ]
     },
     "metadata": {
      "needs_background": "light"
     },
     "output_type": "display_data"
    }
   ],
   "source": [
    "sns.regplot(x=\"carlength\", y=\"price\", data=df)"
   ]
  },
  {
   "cell_type": "markdown",
   "metadata": {},
   "source": [
    "## plot of \"carwidth\" and \"price\""
   ]
  },
  {
   "cell_type": "code",
   "execution_count": 33,
   "metadata": {},
   "outputs": [
    {
     "data": {
      "text/plain": [
       "<AxesSubplot:xlabel='carwidth', ylabel='price'>"
      ]
     },
     "execution_count": 33,
     "metadata": {},
     "output_type": "execute_result"
    },
    {
     "data": {
      "image/png": "[encoded data removed]",
      "text/plain": [
       "<Figure size 432x288 with 1 Axes>"
      ]
     },
     "metadata": {
      "needs_background": "light"
     },
     "output_type": "display_data"
    }
   ],
   "source": [
    "sns.regplot(x=\"carwidth\", y=\"price\", data=df)"
   ]
  },
  {
   "cell_type": "markdown",
   "metadata": {},
   "source": [
    "## plot of \"enginesize\" and \"price\""
   ]
  },
  {
   "cell_type": "code",
   "execution_count": 34,
   "metadata": {},
   "outputs": [
    {
     "data": {
      "text/plain": [
       "<AxesSubplot:xlabel='enginesize', ylabel='price'>"
      ]
     },
     "execution_count": 34,
     "metadata": {},
     "output_type": "execute_result"
    },
    {
     "data": {
      "image/png": "[encoded data removed]",
      "text/plain": [
       "<Figure size 432x288 with 1 Axes>"
      ]
     },
     "metadata": {
      "needs_background": "light"
     },
     "output_type": "display_data"
    }
   ],
   "source": [
    "sns.regplot(x=\"enginesize\", y=\"price\", data=df)"
   ]
  },
  {
   "cell_type": "markdown",
   "metadata": {},
   "source": [
    "## plot of \"boreratio\" and \"price\""
   ]
  },
  {
   "cell_type": "code",
   "execution_count": 35,
   "metadata": {},
   "outputs": [
    {
     "data": {
      "text/plain": [
       "<AxesSubplot:xlabel='boreratio', ylabel='price'>"
      ]
     },
     "execution_count": 35,
     "metadata": {},
     "output_type": "execute_result"
    },
    {
     "data": {
      "image/png": "[encoded data removed]",
      "text/plain": [
       "<Figure size 432x288 with 1 Axes>"
      ]
     },
     "metadata": {
      "needs_background": "light"
     },
     "output_type": "display_data"
    }
   ],
   "source": [
    "sns.regplot(x=\"boreratio\", y=\"price\", data=df)"
   ]
  },
  {
   "cell_type": "markdown",
   "metadata": {},
   "source": [
    "## plot of \"curbweight\" and \"price\""
   ]
  },
  {
   "cell_type": "code",
   "execution_count": 36,
   "metadata": {},
   "outputs": [
    {
     "data": {
      "text/plain": [
       "<AxesSubplot:xlabel='curbweight', ylabel='price'>"
      ]
     },
     "execution_count": 36,
     "metadata": {},
     "output_type": "execute_result"
    },
    {
     "data": {
      "image/png": "[encoded data removed]",
      "text/plain": [
       "<Figure size 432x288 with 1 Axes>"
      ]
     },
     "metadata": {
      "needs_background": "light"
     },
     "output_type": "display_data"
    }
   ],
   "source": [
    "sns.regplot(x=\"curbweight\", y=\"price\", data=df)"
   ]
  },
  {
   "cell_type": "markdown",
   "metadata": {},
   "source": [
    "## plot of \"citympg\" and \"price\""
   ]
  },
  {
   "cell_type": "code",
   "execution_count": 37,
   "metadata": {},
   "outputs": [
    {
     "data": {
      "text/plain": [
       "<AxesSubplot:xlabel='citympg', ylabel='price'>"
      ]
     },
     "execution_count": 37,
     "metadata": {},
     "output_type": "execute_result"
    },
    {
     "data": {
      "image/png": "[encoded data removed]",
      "text/plain": [
       "<Figure size 432x288 with 1 Axes>"
      ]
     },
     "metadata": {
      "needs_background": "light"
     },
     "output_type": "display_data"
    }
   ],
   "source": [
    "sns.regplot(x=\"citympg\", y=\"price\", data=df)"
   ]
  },
  {
   "cell_type": "markdown",
   "metadata": {},
   "source": [
    "## plot of \"highwaympg\" and \"price\""
   ]
  },
  {
   "cell_type": "code",
   "execution_count": 38,
   "metadata": {},
   "outputs": [
    {
     "data": {
      "text/plain": [
       "<AxesSubplot:xlabel='highwaympg', ylabel='price'>"
      ]
     },
     "execution_count": 38,
     "metadata": {},
     "output_type": "execute_result"
    },
    {
     "data": {
      "image/png": "[encoded data removed]",
      "text/plain": [
       "<Figure size 432x288 with 1 Axes>"
      ]
     },
     "metadata": {
      "needs_background": "light"
     },
     "output_type": "display_data"
    }
   ],
   "source": [
    "sns.regplot(x=\"highwaympg\", y=\"price\", data=df)"
   ]
  },
  {
   "cell_type": "markdown",
   "metadata": {},
   "source": [
    "#### from the above plots we can see the negative and positive high corelation from the regression line "
   ]
  },
  {
   "cell_type": "code",
   "execution_count": null,
   "metadata": {},
   "outputs": [],
   "source": []
  },
  {
   "cell_type": "markdown",
   "metadata": {},
   "source": [
    "## identifying categorical columns"
   ]
  },
  {
   "cell_type": "code",
   "execution_count": 39,
   "metadata": {},
   "outputs": [
    {
     "data": {
      "text/plain": [
       "make               object\n",
       "fueltype           object\n",
       "aspiration         object\n",
       "doornumber         object\n",
       "carbody            object\n",
       "drivewheel         object\n",
       "enginelocation     object\n",
       "wheelbase         float64\n",
       "carlength         float64\n",
       "carwidth          float64\n",
       "curbweight          int64\n",
       "enginetype         object\n",
       "cylindernumber     object\n",
       "enginesize          int64\n",
       "fuelsystem         object\n",
       "boreratio         float64\n",
       "horsepower          int64\n",
       "citympg             int64\n",
       "highwaympg          int64\n",
       "price             float64\n",
       "dtype: object"
      ]
     },
     "execution_count": 39,
     "metadata": {},
     "output_type": "execute_result"
    }
   ],
   "source": [
    "df.dtypes"
   ]
  },
  {
   "cell_type": "code",
   "execution_count": 40,
   "metadata": {},
   "outputs": [],
   "source": [
    "#dict(df.dtypes)"
   ]
  },
  {
   "cell_type": "code",
   "execution_count": 41,
   "metadata": {},
   "outputs": [
    {
     "data": {
      "text/plain": [
       "['make',\n",
       " 'fueltype',\n",
       " 'aspiration',\n",
       " 'doornumber',\n",
       " 'carbody',\n",
       " 'drivewheel',\n",
       " 'enginelocation',\n",
       " 'enginetype',\n",
       " 'cylindernumber',\n",
       " 'fuelsystem']"
      ]
     },
     "execution_count": 41,
     "metadata": {},
     "output_type": "execute_result"
    }
   ],
   "source": [
    "cat_columns = [key for key in dict(df.dtypes)\n",
    "             if dict(df.dtypes)[key] in ['object'] ]\n",
    "cat_columns"
   ]
  },
  {
   "cell_type": "code",
   "execution_count": 42,
   "metadata": {},
   "outputs": [
    {
     "data": {
      "text/html": [
       "<div>\n",
       "<style scoped>\n",
       "    .dataframe tbody tr th:only-of-type {\n",
       "        vertical-align: middle;\n",
       "    }\n",
       "\n",
       "    .dataframe tbody tr th {\n",
       "        vertical-align: top;\n",
       "    }\n",
       "\n",
       "    .dataframe thead th {\n",
       "        text-align: right;\n",
       "    }\n",
       "</style>\n",
       "<table border=\"1\" class=\"dataframe\">\n",
       "  <thead>\n",
       "    <tr style=\"text-align: right;\">\n",
       "      <th></th>\n",
       "      <th>make</th>\n",
       "      <th>fueltype</th>\n",
       "      <th>aspiration</th>\n",
       "      <th>doornumber</th>\n",
       "      <th>carbody</th>\n",
       "      <th>drivewheel</th>\n",
       "      <th>enginelocation</th>\n",
       "      <th>enginetype</th>\n",
       "      <th>cylindernumber</th>\n",
       "      <th>fuelsystem</th>\n",
       "    </tr>\n",
       "  </thead>\n",
       "  <tbody>\n",
       "    <tr>\n",
       "      <th>0</th>\n",
       "      <td>alfa-romero giulia</td>\n",
       "      <td>gas</td>\n",
       "      <td>std</td>\n",
       "      <td>two</td>\n",
       "      <td>convertible</td>\n",
       "      <td>rwd</td>\n",
       "      <td>front</td>\n",
       "      <td>dohc</td>\n",
       "      <td>four</td>\n",
       "      <td>mpfi</td>\n",
       "    </tr>\n",
       "    <tr>\n",
       "      <th>1</th>\n",
       "      <td>alfa-romero stelvio</td>\n",
       "      <td>gas</td>\n",
       "      <td>std</td>\n",
       "      <td>two</td>\n",
       "      <td>convertible</td>\n",
       "      <td>rwd</td>\n",
       "      <td>front</td>\n",
       "      <td>dohc</td>\n",
       "      <td>four</td>\n",
       "      <td>mpfi</td>\n",
       "    </tr>\n",
       "    <tr>\n",
       "      <th>2</th>\n",
       "      <td>alfa-romero Quadrifoglio</td>\n",
       "      <td>gas</td>\n",
       "      <td>std</td>\n",
       "      <td>two</td>\n",
       "      <td>hatchback</td>\n",
       "      <td>rwd</td>\n",
       "      <td>front</td>\n",
       "      <td>ohcv</td>\n",
       "      <td>six</td>\n",
       "      <td>mpfi</td>\n",
       "    </tr>\n",
       "    <tr>\n",
       "      <th>3</th>\n",
       "      <td>audi 100 ls</td>\n",
       "      <td>gas</td>\n",
       "      <td>std</td>\n",
       "      <td>four</td>\n",
       "      <td>sedan</td>\n",
       "      <td>fwd</td>\n",
       "      <td>front</td>\n",
       "      <td>ohc</td>\n",
       "      <td>four</td>\n",
       "      <td>mpfi</td>\n",
       "    </tr>\n",
       "    <tr>\n",
       "      <th>4</th>\n",
       "      <td>audi 100ls</td>\n",
       "      <td>gas</td>\n",
       "      <td>std</td>\n",
       "      <td>four</td>\n",
       "      <td>sedan</td>\n",
       "      <td>4wd</td>\n",
       "      <td>front</td>\n",
       "      <td>ohc</td>\n",
       "      <td>five</td>\n",
       "      <td>mpfi</td>\n",
       "    </tr>\n",
       "    <tr>\n",
       "      <th>...</th>\n",
       "      <td>...</td>\n",
       "      <td>...</td>\n",
       "      <td>...</td>\n",
       "      <td>...</td>\n",
       "      <td>...</td>\n",
       "      <td>...</td>\n",
       "      <td>...</td>\n",
       "      <td>...</td>\n",
       "      <td>...</td>\n",
       "      <td>...</td>\n",
       "    </tr>\n",
       "    <tr>\n",
       "      <th>200</th>\n",
       "      <td>volvo 145e (sw)</td>\n",
       "      <td>gas</td>\n",
       "      <td>std</td>\n",
       "      <td>four</td>\n",
       "      <td>sedan</td>\n",
       "      <td>rwd</td>\n",
       "      <td>front</td>\n",
       "      <td>ohc</td>\n",
       "      <td>four</td>\n",
       "      <td>mpfi</td>\n",
       "    </tr>\n",
       "    <tr>\n",
       "      <th>201</th>\n",
       "      <td>volvo 144ea</td>\n",
       "      <td>gas</td>\n",
       "      <td>turbo</td>\n",
       "      <td>four</td>\n",
       "      <td>sedan</td>\n",
       "      <td>rwd</td>\n",
       "      <td>front</td>\n",
       "      <td>ohc</td>\n",
       "      <td>four</td>\n",
       "      <td>mpfi</td>\n",
       "    </tr>\n",
       "    <tr>\n",
       "      <th>202</th>\n",
       "      <td>volvo 244dl</td>\n",
       "      <td>gas</td>\n",
       "      <td>std</td>\n",
       "      <td>four</td>\n",
       "      <td>sedan</td>\n",
       "      <td>rwd</td>\n",
       "      <td>front</td>\n",
       "      <td>ohcv</td>\n",
       "      <td>six</td>\n",
       "      <td>mpfi</td>\n",
       "    </tr>\n",
       "    <tr>\n",
       "      <th>203</th>\n",
       "      <td>volvo 246</td>\n",
       "      <td>diesel</td>\n",
       "      <td>turbo</td>\n",
       "      <td>four</td>\n",
       "      <td>sedan</td>\n",
       "      <td>rwd</td>\n",
       "      <td>front</td>\n",
       "      <td>ohc</td>\n",
       "      <td>six</td>\n",
       "      <td>idi</td>\n",
       "    </tr>\n",
       "    <tr>\n",
       "      <th>204</th>\n",
       "      <td>volvo 264gl</td>\n",
       "      <td>gas</td>\n",
       "      <td>turbo</td>\n",
       "      <td>four</td>\n",
       "      <td>sedan</td>\n",
       "      <td>rwd</td>\n",
       "      <td>front</td>\n",
       "      <td>ohc</td>\n",
       "      <td>four</td>\n",
       "      <td>mpfi</td>\n",
       "    </tr>\n",
       "  </tbody>\n",
       "</table>\n",
       "<p>205 rows × 10 columns</p>\n",
       "</div>"
      ],
      "text/plain": [
       "                         make fueltype aspiration doornumber      carbody  \\\n",
       "0          alfa-romero giulia      gas        std        two  convertible   \n",
       "1         alfa-romero stelvio      gas        std        two  convertible   \n",
       "2    alfa-romero Quadrifoglio      gas        std        two    hatchback   \n",
       "3                 audi 100 ls      gas        std       four        sedan   \n",
       "4                  audi 100ls      gas        std       four        sedan   \n",
       "..                        ...      ...        ...        ...          ...   \n",
       "200           volvo 145e (sw)      gas        std       four        sedan   \n",
       "201               volvo 144ea      gas      turbo       four        sedan   \n",
       "202               volvo 244dl      gas        std       four        sedan   \n",
       "203                 volvo 246   diesel      turbo       four        sedan   \n",
       "204               volvo 264gl      gas      turbo       four        sedan   \n",
       "\n",
       "    drivewheel enginelocation enginetype cylindernumber fuelsystem  \n",
       "0          rwd          front       dohc           four       mpfi  \n",
       "1          rwd          front       dohc           four       mpfi  \n",
       "2          rwd          front       ohcv            six       mpfi  \n",
       "3          fwd          front        ohc           four       mpfi  \n",
       "4          4wd          front        ohc           five       mpfi  \n",
       "..         ...            ...        ...            ...        ...  \n",
       "200        rwd          front        ohc           four       mpfi  \n",
       "201        rwd          front        ohc           four       mpfi  \n",
       "202        rwd          front       ohcv            six       mpfi  \n",
       "203        rwd          front        ohc            six        idi  \n",
       "204        rwd          front        ohc           four       mpfi  \n",
       "\n",
       "[205 rows x 10 columns]"
      ]
     },
     "execution_count": 42,
     "metadata": {},
     "output_type": "execute_result"
    }
   ],
   "source": [
    "df[cat_columns]"
   ]
  },
  {
   "cell_type": "markdown",
   "metadata": {},
   "source": [
    "#### above all are categorical features from my dataset and need to encode them to some numeric"
   ]
  },
  {
   "cell_type": "code",
   "execution_count": null,
   "metadata": {},
   "outputs": [],
   "source": []
  },
  {
   "cell_type": "code",
   "execution_count": 43,
   "metadata": {},
   "outputs": [
    {
     "name": "stdout",
     "output_type": "stream",
     "text": [
      "make : 147 labels\n",
      "fueltype : 2 labels\n",
      "aspiration : 2 labels\n",
      "doornumber : 2 labels\n",
      "carbody : 5 labels\n",
      "drivewheel : 3 labels\n",
      "enginelocation : 2 labels\n",
      "enginetype : 7 labels\n",
      "cylindernumber : 7 labels\n",
      "fuelsystem : 8 labels\n"
     ]
    }
   ],
   "source": [
    "for feature in df[cat_columns]:\n",
    "    print(feature,\":\",len(df[cat_columns][feature].unique()),'labels')"
   ]
  },
  {
   "cell_type": "markdown",
   "metadata": {},
   "source": [
    "## Those features which are having 2 categories used one hot encoding and for rest of the all used mean ordinal encoding and Frequency encoding "
   ]
  },
  {
   "cell_type": "markdown",
   "metadata": {},
   "source": [
    "### One hot Encoding"
   ]
  },
  {
   "cell_type": "code",
   "execution_count": 44,
   "metadata": {},
   "outputs": [],
   "source": [
    "dummy_fueltype = pd.get_dummies(df['fueltype'])\n",
    "df = pd.concat([df, dummy_fueltype], axis=1)\n",
    "df.drop('fueltype', axis = 1, inplace=True)"
   ]
  },
  {
   "cell_type": "code",
   "execution_count": 45,
   "metadata": {},
   "outputs": [],
   "source": [
    "dummy_aspiration=pd.get_dummies(df['aspiration'])\n",
    "df=pd.concat([df, dummy_aspiration],axis=1)\n",
    "df.drop('aspiration',axis=1,inplace=True)"
   ]
  },
  {
   "cell_type": "code",
   "execution_count": 46,
   "metadata": {},
   "outputs": [],
   "source": [
    "dummy_doornumber = pd.get_dummies(df['doornumber'])\n",
    "df = pd.concat([df, dummy_doornumber], axis=1)\n",
    "df.drop('doornumber', axis = 1, inplace=True)"
   ]
  },
  {
   "cell_type": "code",
   "execution_count": 47,
   "metadata": {},
   "outputs": [],
   "source": [
    "dummy_enginelocation = pd.get_dummies(df['enginelocation'])\n",
    "df = pd.concat([df, dummy_enginelocation], axis=1)\n",
    "df.drop('enginelocation', axis = 1, inplace=True)"
   ]
  },
  {
   "cell_type": "code",
   "execution_count": 48,
   "metadata": {},
   "outputs": [],
   "source": [
    "df.rename(columns={'gas':'fueltype_gas', 'diesel':'fueltype_diesel', 'std':'aspiration_std', 'turbo':'aspiration_turbo', 'four':'doornumber_four', 'two':'doornumber_two', 'front':'enginelocation_front', 'rear':'enginelocation_rear'} ,inplace=True)"
   ]
  },
  {
   "cell_type": "code",
   "execution_count": 49,
   "metadata": {},
   "outputs": [
    {
     "data": {
      "text/html": [
       "<div>\n",
       "<style scoped>\n",
       "    .dataframe tbody tr th:only-of-type {\n",
       "        vertical-align: middle;\n",
       "    }\n",
       "\n",
       "    .dataframe tbody tr th {\n",
       "        vertical-align: top;\n",
       "    }\n",
       "\n",
       "    .dataframe thead th {\n",
       "        text-align: right;\n",
       "    }\n",
       "</style>\n",
       "<table border=\"1\" class=\"dataframe\">\n",
       "  <thead>\n",
       "    <tr style=\"text-align: right;\">\n",
       "      <th></th>\n",
       "      <th>make</th>\n",
       "      <th>carbody</th>\n",
       "      <th>drivewheel</th>\n",
       "      <th>wheelbase</th>\n",
       "      <th>carlength</th>\n",
       "      <th>carwidth</th>\n",
       "      <th>curbweight</th>\n",
       "      <th>enginetype</th>\n",
       "      <th>cylindernumber</th>\n",
       "      <th>enginesize</th>\n",
       "      <th>...</th>\n",
       "      <th>highwaympg</th>\n",
       "      <th>price</th>\n",
       "      <th>fueltype_diesel</th>\n",
       "      <th>fueltype_gas</th>\n",
       "      <th>aspiration_std</th>\n",
       "      <th>aspiration_turbo</th>\n",
       "      <th>doornumber_four</th>\n",
       "      <th>doornumber_two</th>\n",
       "      <th>enginelocation_front</th>\n",
       "      <th>enginelocation_rear</th>\n",
       "    </tr>\n",
       "  </thead>\n",
       "  <tbody>\n",
       "    <tr>\n",
       "      <th>0</th>\n",
       "      <td>alfa-romero giulia</td>\n",
       "      <td>convertible</td>\n",
       "      <td>rwd</td>\n",
       "      <td>88.6</td>\n",
       "      <td>168.8</td>\n",
       "      <td>64.1</td>\n",
       "      <td>2548</td>\n",
       "      <td>dohc</td>\n",
       "      <td>four</td>\n",
       "      <td>130</td>\n",
       "      <td>...</td>\n",
       "      <td>27</td>\n",
       "      <td>13495.0</td>\n",
       "      <td>0</td>\n",
       "      <td>1</td>\n",
       "      <td>1</td>\n",
       "      <td>0</td>\n",
       "      <td>0</td>\n",
       "      <td>1</td>\n",
       "      <td>1</td>\n",
       "      <td>0</td>\n",
       "    </tr>\n",
       "    <tr>\n",
       "      <th>1</th>\n",
       "      <td>alfa-romero stelvio</td>\n",
       "      <td>convertible</td>\n",
       "      <td>rwd</td>\n",
       "      <td>88.6</td>\n",
       "      <td>168.8</td>\n",
       "      <td>64.1</td>\n",
       "      <td>2548</td>\n",
       "      <td>dohc</td>\n",
       "      <td>four</td>\n",
       "      <td>130</td>\n",
       "      <td>...</td>\n",
       "      <td>27</td>\n",
       "      <td>16500.0</td>\n",
       "      <td>0</td>\n",
       "      <td>1</td>\n",
       "      <td>1</td>\n",
       "      <td>0</td>\n",
       "      <td>0</td>\n",
       "      <td>1</td>\n",
       "      <td>1</td>\n",
       "      <td>0</td>\n",
       "    </tr>\n",
       "    <tr>\n",
       "      <th>2</th>\n",
       "      <td>alfa-romero Quadrifoglio</td>\n",
       "      <td>hatchback</td>\n",
       "      <td>rwd</td>\n",
       "      <td>94.5</td>\n",
       "      <td>171.2</td>\n",
       "      <td>65.5</td>\n",
       "      <td>2823</td>\n",
       "      <td>ohcv</td>\n",
       "      <td>six</td>\n",
       "      <td>152</td>\n",
       "      <td>...</td>\n",
       "      <td>26</td>\n",
       "      <td>16500.0</td>\n",
       "      <td>0</td>\n",
       "      <td>1</td>\n",
       "      <td>1</td>\n",
       "      <td>0</td>\n",
       "      <td>0</td>\n",
       "      <td>1</td>\n",
       "      <td>1</td>\n",
       "      <td>0</td>\n",
       "    </tr>\n",
       "    <tr>\n",
       "      <th>3</th>\n",
       "      <td>audi 100 ls</td>\n",
       "      <td>sedan</td>\n",
       "      <td>fwd</td>\n",
       "      <td>99.8</td>\n",
       "      <td>176.6</td>\n",
       "      <td>66.2</td>\n",
       "      <td>2337</td>\n",
       "      <td>ohc</td>\n",
       "      <td>four</td>\n",
       "      <td>109</td>\n",
       "      <td>...</td>\n",
       "      <td>30</td>\n",
       "      <td>13950.0</td>\n",
       "      <td>0</td>\n",
       "      <td>1</td>\n",
       "      <td>1</td>\n",
       "      <td>0</td>\n",
       "      <td>1</td>\n",
       "      <td>0</td>\n",
       "      <td>1</td>\n",
       "      <td>0</td>\n",
       "    </tr>\n",
       "    <tr>\n",
       "      <th>4</th>\n",
       "      <td>audi 100ls</td>\n",
       "      <td>sedan</td>\n",
       "      <td>4wd</td>\n",
       "      <td>99.4</td>\n",
       "      <td>176.6</td>\n",
       "      <td>66.4</td>\n",
       "      <td>2824</td>\n",
       "      <td>ohc</td>\n",
       "      <td>five</td>\n",
       "      <td>136</td>\n",
       "      <td>...</td>\n",
       "      <td>22</td>\n",
       "      <td>17450.0</td>\n",
       "      <td>0</td>\n",
       "      <td>1</td>\n",
       "      <td>1</td>\n",
       "      <td>0</td>\n",
       "      <td>1</td>\n",
       "      <td>0</td>\n",
       "      <td>1</td>\n",
       "      <td>0</td>\n",
       "    </tr>\n",
       "  </tbody>\n",
       "</table>\n",
       "<p>5 rows × 24 columns</p>\n",
       "</div>"
      ],
      "text/plain": [
       "                       make      carbody drivewheel  wheelbase  carlength  \\\n",
       "0        alfa-romero giulia  convertible        rwd       88.6      168.8   \n",
       "1       alfa-romero stelvio  convertible        rwd       88.6      168.8   \n",
       "2  alfa-romero Quadrifoglio    hatchback        rwd       94.5      171.2   \n",
       "3               audi 100 ls        sedan        fwd       99.8      176.6   \n",
       "4                audi 100ls        sedan        4wd       99.4      176.6   \n",
       "\n",
       "   carwidth  curbweight enginetype cylindernumber  enginesize  ... highwaympg  \\\n",
       "0      64.1        2548       dohc           four         130  ...         27   \n",
       "1      64.1        2548       dohc           four         130  ...         27   \n",
       "2      65.5        2823       ohcv            six         152  ...         26   \n",
       "3      66.2        2337        ohc           four         109  ...         30   \n",
       "4      66.4        2824        ohc           five         136  ...         22   \n",
       "\n",
       "     price  fueltype_diesel  fueltype_gas  aspiration_std  aspiration_turbo  \\\n",
       "0  13495.0                0             1               1                 0   \n",
       "1  16500.0                0             1               1                 0   \n",
       "2  16500.0                0             1               1                 0   \n",
       "3  13950.0                0             1               1                 0   \n",
       "4  17450.0                0             1               1                 0   \n",
       "\n",
       "   doornumber_four  doornumber_two  enginelocation_front  enginelocation_rear  \n",
       "0                0               1                     1                    0  \n",
       "1                0               1                     1                    0  \n",
       "2                0               1                     1                    0  \n",
       "3                1               0                     1                    0  \n",
       "4                1               0                     1                    0  \n",
       "\n",
       "[5 rows x 24 columns]"
      ]
     },
     "execution_count": 49,
     "metadata": {},
     "output_type": "execute_result"
    }
   ],
   "source": [
    "df.head()"
   ]
  },
  {
   "cell_type": "markdown",
   "metadata": {},
   "source": [
    "### mean ordinal encoding"
   ]
  },
  {
   "cell_type": "code",
   "execution_count": 50,
   "metadata": {},
   "outputs": [
    {
     "data": {
      "text/plain": [
       "carbody\n",
       "convertible    21890.50\n",
       "hardtop        22208.50\n",
       "hatchback      10376.65\n",
       "sedan          14344.27\n",
       "wagon          12371.96\n",
       "Name: price, dtype: float64"
      ]
     },
     "execution_count": 50,
     "metadata": {},
     "output_type": "execute_result"
    }
   ],
   "source": [
    "mean_ordinal=df.groupby(['carbody'])['price'].mean().round(2)\n",
    "mean_ordinal"
   ]
  },
  {
   "cell_type": "code",
   "execution_count": 51,
   "metadata": {},
   "outputs": [
    {
     "data": {
      "text/html": [
       "<div>\n",
       "<style scoped>\n",
       "    .dataframe tbody tr th:only-of-type {\n",
       "        vertical-align: middle;\n",
       "    }\n",
       "\n",
       "    .dataframe tbody tr th {\n",
       "        vertical-align: top;\n",
       "    }\n",
       "\n",
       "    .dataframe thead th {\n",
       "        text-align: right;\n",
       "    }\n",
       "</style>\n",
       "<table border=\"1\" class=\"dataframe\">\n",
       "  <thead>\n",
       "    <tr style=\"text-align: right;\">\n",
       "      <th></th>\n",
       "      <th>make</th>\n",
       "      <th>carbody</th>\n",
       "      <th>drivewheel</th>\n",
       "      <th>wheelbase</th>\n",
       "      <th>carlength</th>\n",
       "      <th>carwidth</th>\n",
       "      <th>curbweight</th>\n",
       "      <th>enginetype</th>\n",
       "      <th>cylindernumber</th>\n",
       "      <th>enginesize</th>\n",
       "      <th>...</th>\n",
       "      <th>highwaympg</th>\n",
       "      <th>price</th>\n",
       "      <th>fueltype_diesel</th>\n",
       "      <th>fueltype_gas</th>\n",
       "      <th>aspiration_std</th>\n",
       "      <th>aspiration_turbo</th>\n",
       "      <th>doornumber_four</th>\n",
       "      <th>doornumber_two</th>\n",
       "      <th>enginelocation_front</th>\n",
       "      <th>enginelocation_rear</th>\n",
       "    </tr>\n",
       "  </thead>\n",
       "  <tbody>\n",
       "    <tr>\n",
       "      <th>0</th>\n",
       "      <td>alfa-romero giulia</td>\n",
       "      <td>21890.50</td>\n",
       "      <td>rwd</td>\n",
       "      <td>88.6</td>\n",
       "      <td>168.8</td>\n",
       "      <td>64.1</td>\n",
       "      <td>2548</td>\n",
       "      <td>dohc</td>\n",
       "      <td>four</td>\n",
       "      <td>130</td>\n",
       "      <td>...</td>\n",
       "      <td>27</td>\n",
       "      <td>13495.0</td>\n",
       "      <td>0</td>\n",
       "      <td>1</td>\n",
       "      <td>1</td>\n",
       "      <td>0</td>\n",
       "      <td>0</td>\n",
       "      <td>1</td>\n",
       "      <td>1</td>\n",
       "      <td>0</td>\n",
       "    </tr>\n",
       "    <tr>\n",
       "      <th>1</th>\n",
       "      <td>alfa-romero stelvio</td>\n",
       "      <td>21890.50</td>\n",
       "      <td>rwd</td>\n",
       "      <td>88.6</td>\n",
       "      <td>168.8</td>\n",
       "      <td>64.1</td>\n",
       "      <td>2548</td>\n",
       "      <td>dohc</td>\n",
       "      <td>four</td>\n",
       "      <td>130</td>\n",
       "      <td>...</td>\n",
       "      <td>27</td>\n",
       "      <td>16500.0</td>\n",
       "      <td>0</td>\n",
       "      <td>1</td>\n",
       "      <td>1</td>\n",
       "      <td>0</td>\n",
       "      <td>0</td>\n",
       "      <td>1</td>\n",
       "      <td>1</td>\n",
       "      <td>0</td>\n",
       "    </tr>\n",
       "    <tr>\n",
       "      <th>2</th>\n",
       "      <td>alfa-romero Quadrifoglio</td>\n",
       "      <td>10376.65</td>\n",
       "      <td>rwd</td>\n",
       "      <td>94.5</td>\n",
       "      <td>171.2</td>\n",
       "      <td>65.5</td>\n",
       "      <td>2823</td>\n",
       "      <td>ohcv</td>\n",
       "      <td>six</td>\n",
       "      <td>152</td>\n",
       "      <td>...</td>\n",
       "      <td>26</td>\n",
       "      <td>16500.0</td>\n",
       "      <td>0</td>\n",
       "      <td>1</td>\n",
       "      <td>1</td>\n",
       "      <td>0</td>\n",
       "      <td>0</td>\n",
       "      <td>1</td>\n",
       "      <td>1</td>\n",
       "      <td>0</td>\n",
       "    </tr>\n",
       "    <tr>\n",
       "      <th>3</th>\n",
       "      <td>audi 100 ls</td>\n",
       "      <td>14344.27</td>\n",
       "      <td>fwd</td>\n",
       "      <td>99.8</td>\n",
       "      <td>176.6</td>\n",
       "      <td>66.2</td>\n",
       "      <td>2337</td>\n",
       "      <td>ohc</td>\n",
       "      <td>four</td>\n",
       "      <td>109</td>\n",
       "      <td>...</td>\n",
       "      <td>30</td>\n",
       "      <td>13950.0</td>\n",
       "      <td>0</td>\n",
       "      <td>1</td>\n",
       "      <td>1</td>\n",
       "      <td>0</td>\n",
       "      <td>1</td>\n",
       "      <td>0</td>\n",
       "      <td>1</td>\n",
       "      <td>0</td>\n",
       "    </tr>\n",
       "    <tr>\n",
       "      <th>4</th>\n",
       "      <td>audi 100ls</td>\n",
       "      <td>14344.27</td>\n",
       "      <td>4wd</td>\n",
       "      <td>99.4</td>\n",
       "      <td>176.6</td>\n",
       "      <td>66.4</td>\n",
       "      <td>2824</td>\n",
       "      <td>ohc</td>\n",
       "      <td>five</td>\n",
       "      <td>136</td>\n",
       "      <td>...</td>\n",
       "      <td>22</td>\n",
       "      <td>17450.0</td>\n",
       "      <td>0</td>\n",
       "      <td>1</td>\n",
       "      <td>1</td>\n",
       "      <td>0</td>\n",
       "      <td>1</td>\n",
       "      <td>0</td>\n",
       "      <td>1</td>\n",
       "      <td>0</td>\n",
       "    </tr>\n",
       "  </tbody>\n",
       "</table>\n",
       "<p>5 rows × 24 columns</p>\n",
       "</div>"
      ],
      "text/plain": [
       "                       make   carbody drivewheel  wheelbase  carlength  \\\n",
       "0        alfa-romero giulia  21890.50        rwd       88.6      168.8   \n",
       "1       alfa-romero stelvio  21890.50        rwd       88.6      168.8   \n",
       "2  alfa-romero Quadrifoglio  10376.65        rwd       94.5      171.2   \n",
       "3               audi 100 ls  14344.27        fwd       99.8      176.6   \n",
       "4                audi 100ls  14344.27        4wd       99.4      176.6   \n",
       "\n",
       "   carwidth  curbweight enginetype cylindernumber  enginesize  ... highwaympg  \\\n",
       "0      64.1        2548       dohc           four         130  ...         27   \n",
       "1      64.1        2548       dohc           four         130  ...         27   \n",
       "2      65.5        2823       ohcv            six         152  ...         26   \n",
       "3      66.2        2337        ohc           four         109  ...         30   \n",
       "4      66.4        2824        ohc           five         136  ...         22   \n",
       "\n",
       "     price  fueltype_diesel  fueltype_gas  aspiration_std  aspiration_turbo  \\\n",
       "0  13495.0                0             1               1                 0   \n",
       "1  16500.0                0             1               1                 0   \n",
       "2  16500.0                0             1               1                 0   \n",
       "3  13950.0                0             1               1                 0   \n",
       "4  17450.0                0             1               1                 0   \n",
       "\n",
       "   doornumber_four  doornumber_two  enginelocation_front  enginelocation_rear  \n",
       "0                0               1                     1                    0  \n",
       "1                0               1                     1                    0  \n",
       "2                0               1                     1                    0  \n",
       "3                1               0                     1                    0  \n",
       "4                1               0                     1                    0  \n",
       "\n",
       "[5 rows x 24 columns]"
      ]
     },
     "execution_count": 51,
     "metadata": {},
     "output_type": "execute_result"
    }
   ],
   "source": [
    "df['carbody']=df['carbody'].map(mean_ordinal)\n",
    "df.head()"
   ]
  },
  {
   "cell_type": "code",
   "execution_count": 52,
   "metadata": {},
   "outputs": [
    {
     "data": {
      "text/plain": [
       "drivewheel\n",
       "4wd    11087.46\n",
       "fwd     9239.31\n",
       "rwd    19910.81\n",
       "Name: price, dtype: float64"
      ]
     },
     "execution_count": 52,
     "metadata": {},
     "output_type": "execute_result"
    }
   ],
   "source": [
    "mean_ordinal=df.groupby(['drivewheel'])['price'].mean().round(2)\n",
    "mean_ordinal"
   ]
  },
  {
   "cell_type": "code",
   "execution_count": 53,
   "metadata": {},
   "outputs": [
    {
     "data": {
      "text/html": [
       "<div>\n",
       "<style scoped>\n",
       "    .dataframe tbody tr th:only-of-type {\n",
       "        vertical-align: middle;\n",
       "    }\n",
       "\n",
       "    .dataframe tbody tr th {\n",
       "        vertical-align: top;\n",
       "    }\n",
       "\n",
       "    .dataframe thead th {\n",
       "        text-align: right;\n",
       "    }\n",
       "</style>\n",
       "<table border=\"1\" class=\"dataframe\">\n",
       "  <thead>\n",
       "    <tr style=\"text-align: right;\">\n",
       "      <th></th>\n",
       "      <th>make</th>\n",
       "      <th>carbody</th>\n",
       "      <th>drivewheel</th>\n",
       "      <th>wheelbase</th>\n",
       "      <th>carlength</th>\n",
       "      <th>carwidth</th>\n",
       "      <th>curbweight</th>\n",
       "      <th>enginetype</th>\n",
       "      <th>cylindernumber</th>\n",
       "      <th>enginesize</th>\n",
       "      <th>...</th>\n",
       "      <th>highwaympg</th>\n",
       "      <th>price</th>\n",
       "      <th>fueltype_diesel</th>\n",
       "      <th>fueltype_gas</th>\n",
       "      <th>aspiration_std</th>\n",
       "      <th>aspiration_turbo</th>\n",
       "      <th>doornumber_four</th>\n",
       "      <th>doornumber_two</th>\n",
       "      <th>enginelocation_front</th>\n",
       "      <th>enginelocation_rear</th>\n",
       "    </tr>\n",
       "  </thead>\n",
       "  <tbody>\n",
       "    <tr>\n",
       "      <th>0</th>\n",
       "      <td>alfa-romero giulia</td>\n",
       "      <td>21890.50</td>\n",
       "      <td>19910.81</td>\n",
       "      <td>88.6</td>\n",
       "      <td>168.8</td>\n",
       "      <td>64.1</td>\n",
       "      <td>2548</td>\n",
       "      <td>dohc</td>\n",
       "      <td>four</td>\n",
       "      <td>130</td>\n",
       "      <td>...</td>\n",
       "      <td>27</td>\n",
       "      <td>13495.0</td>\n",
       "      <td>0</td>\n",
       "      <td>1</td>\n",
       "      <td>1</td>\n",
       "      <td>0</td>\n",
       "      <td>0</td>\n",
       "      <td>1</td>\n",
       "      <td>1</td>\n",
       "      <td>0</td>\n",
       "    </tr>\n",
       "    <tr>\n",
       "      <th>1</th>\n",
       "      <td>alfa-romero stelvio</td>\n",
       "      <td>21890.50</td>\n",
       "      <td>19910.81</td>\n",
       "      <td>88.6</td>\n",
       "      <td>168.8</td>\n",
       "      <td>64.1</td>\n",
       "      <td>2548</td>\n",
       "      <td>dohc</td>\n",
       "      <td>four</td>\n",
       "      <td>130</td>\n",
       "      <td>...</td>\n",
       "      <td>27</td>\n",
       "      <td>16500.0</td>\n",
       "      <td>0</td>\n",
       "      <td>1</td>\n",
       "      <td>1</td>\n",
       "      <td>0</td>\n",
       "      <td>0</td>\n",
       "      <td>1</td>\n",
       "      <td>1</td>\n",
       "      <td>0</td>\n",
       "    </tr>\n",
       "    <tr>\n",
       "      <th>2</th>\n",
       "      <td>alfa-romero Quadrifoglio</td>\n",
       "      <td>10376.65</td>\n",
       "      <td>19910.81</td>\n",
       "      <td>94.5</td>\n",
       "      <td>171.2</td>\n",
       "      <td>65.5</td>\n",
       "      <td>2823</td>\n",
       "      <td>ohcv</td>\n",
       "      <td>six</td>\n",
       "      <td>152</td>\n",
       "      <td>...</td>\n",
       "      <td>26</td>\n",
       "      <td>16500.0</td>\n",
       "      <td>0</td>\n",
       "      <td>1</td>\n",
       "      <td>1</td>\n",
       "      <td>0</td>\n",
       "      <td>0</td>\n",
       "      <td>1</td>\n",
       "      <td>1</td>\n",
       "      <td>0</td>\n",
       "    </tr>\n",
       "    <tr>\n",
       "      <th>3</th>\n",
       "      <td>audi 100 ls</td>\n",
       "      <td>14344.27</td>\n",
       "      <td>9239.31</td>\n",
       "      <td>99.8</td>\n",
       "      <td>176.6</td>\n",
       "      <td>66.2</td>\n",
       "      <td>2337</td>\n",
       "      <td>ohc</td>\n",
       "      <td>four</td>\n",
       "      <td>109</td>\n",
       "      <td>...</td>\n",
       "      <td>30</td>\n",
       "      <td>13950.0</td>\n",
       "      <td>0</td>\n",
       "      <td>1</td>\n",
       "      <td>1</td>\n",
       "      <td>0</td>\n",
       "      <td>1</td>\n",
       "      <td>0</td>\n",
       "      <td>1</td>\n",
       "      <td>0</td>\n",
       "    </tr>\n",
       "    <tr>\n",
       "      <th>4</th>\n",
       "      <td>audi 100ls</td>\n",
       "      <td>14344.27</td>\n",
       "      <td>11087.46</td>\n",
       "      <td>99.4</td>\n",
       "      <td>176.6</td>\n",
       "      <td>66.4</td>\n",
       "      <td>2824</td>\n",
       "      <td>ohc</td>\n",
       "      <td>five</td>\n",
       "      <td>136</td>\n",
       "      <td>...</td>\n",
       "      <td>22</td>\n",
       "      <td>17450.0</td>\n",
       "      <td>0</td>\n",
       "      <td>1</td>\n",
       "      <td>1</td>\n",
       "      <td>0</td>\n",
       "      <td>1</td>\n",
       "      <td>0</td>\n",
       "      <td>1</td>\n",
       "      <td>0</td>\n",
       "    </tr>\n",
       "  </tbody>\n",
       "</table>\n",
       "<p>5 rows × 24 columns</p>\n",
       "</div>"
      ],
      "text/plain": [
       "                       make   carbody  drivewheel  wheelbase  carlength  \\\n",
       "0        alfa-romero giulia  21890.50    19910.81       88.6      168.8   \n",
       "1       alfa-romero stelvio  21890.50    19910.81       88.6      168.8   \n",
       "2  alfa-romero Quadrifoglio  10376.65    19910.81       94.5      171.2   \n",
       "3               audi 100 ls  14344.27     9239.31       99.8      176.6   \n",
       "4                audi 100ls  14344.27    11087.46       99.4      176.6   \n",
       "\n",
       "   carwidth  curbweight enginetype cylindernumber  enginesize  ... highwaympg  \\\n",
       "0      64.1        2548       dohc           four         130  ...         27   \n",
       "1      64.1        2548       dohc           four         130  ...         27   \n",
       "2      65.5        2823       ohcv            six         152  ...         26   \n",
       "3      66.2        2337        ohc           four         109  ...         30   \n",
       "4      66.4        2824        ohc           five         136  ...         22   \n",
       "\n",
       "     price  fueltype_diesel  fueltype_gas  aspiration_std  aspiration_turbo  \\\n",
       "0  13495.0                0             1               1                 0   \n",
       "1  16500.0                0             1               1                 0   \n",
       "2  16500.0                0             1               1                 0   \n",
       "3  13950.0                0             1               1                 0   \n",
       "4  17450.0                0             1               1                 0   \n",
       "\n",
       "   doornumber_four  doornumber_two  enginelocation_front  enginelocation_rear  \n",
       "0                0               1                     1                    0  \n",
       "1                0               1                     1                    0  \n",
       "2                0               1                     1                    0  \n",
       "3                1               0                     1                    0  \n",
       "4                1               0                     1                    0  \n",
       "\n",
       "[5 rows x 24 columns]"
      ]
     },
     "execution_count": 53,
     "metadata": {},
     "output_type": "execute_result"
    }
   ],
   "source": [
    "df['drivewheel']=df['drivewheel'].map(mean_ordinal)\n",
    "df.head()"
   ]
  },
  {
   "cell_type": "code",
   "execution_count": 54,
   "metadata": {},
   "outputs": [
    {
     "data": {
      "text/plain": [
       "enginetype\n",
       "dohc     18116.42\n",
       "dohcv    31400.50\n",
       "l        14627.58\n",
       "ohc      11574.05\n",
       "ohcf     13738.60\n",
       "ohcv     25098.38\n",
       "rotor    13020.00\n",
       "Name: price, dtype: float64"
      ]
     },
     "execution_count": 54,
     "metadata": {},
     "output_type": "execute_result"
    }
   ],
   "source": [
    "mean_ordinal=df.groupby(['enginetype'])['price'].mean().round(2)\n",
    "mean_ordinal"
   ]
  },
  {
   "cell_type": "code",
   "execution_count": 55,
   "metadata": {},
   "outputs": [
    {
     "data": {
      "text/html": [
       "<div>\n",
       "<style scoped>\n",
       "    .dataframe tbody tr th:only-of-type {\n",
       "        vertical-align: middle;\n",
       "    }\n",
       "\n",
       "    .dataframe tbody tr th {\n",
       "        vertical-align: top;\n",
       "    }\n",
       "\n",
       "    .dataframe thead th {\n",
       "        text-align: right;\n",
       "    }\n",
       "</style>\n",
       "<table border=\"1\" class=\"dataframe\">\n",
       "  <thead>\n",
       "    <tr style=\"text-align: right;\">\n",
       "      <th></th>\n",
       "      <th>make</th>\n",
       "      <th>carbody</th>\n",
       "      <th>drivewheel</th>\n",
       "      <th>wheelbase</th>\n",
       "      <th>carlength</th>\n",
       "      <th>carwidth</th>\n",
       "      <th>curbweight</th>\n",
       "      <th>enginetype</th>\n",
       "      <th>cylindernumber</th>\n",
       "      <th>enginesize</th>\n",
       "      <th>...</th>\n",
       "      <th>highwaympg</th>\n",
       "      <th>price</th>\n",
       "      <th>fueltype_diesel</th>\n",
       "      <th>fueltype_gas</th>\n",
       "      <th>aspiration_std</th>\n",
       "      <th>aspiration_turbo</th>\n",
       "      <th>doornumber_four</th>\n",
       "      <th>doornumber_two</th>\n",
       "      <th>enginelocation_front</th>\n",
       "      <th>enginelocation_rear</th>\n",
       "    </tr>\n",
       "  </thead>\n",
       "  <tbody>\n",
       "    <tr>\n",
       "      <th>0</th>\n",
       "      <td>alfa-romero giulia</td>\n",
       "      <td>21890.50</td>\n",
       "      <td>19910.81</td>\n",
       "      <td>88.6</td>\n",
       "      <td>168.8</td>\n",
       "      <td>64.1</td>\n",
       "      <td>2548</td>\n",
       "      <td>18116.42</td>\n",
       "      <td>four</td>\n",
       "      <td>130</td>\n",
       "      <td>...</td>\n",
       "      <td>27</td>\n",
       "      <td>13495.0</td>\n",
       "      <td>0</td>\n",
       "      <td>1</td>\n",
       "      <td>1</td>\n",
       "      <td>0</td>\n",
       "      <td>0</td>\n",
       "      <td>1</td>\n",
       "      <td>1</td>\n",
       "      <td>0</td>\n",
       "    </tr>\n",
       "    <tr>\n",
       "      <th>1</th>\n",
       "      <td>alfa-romero stelvio</td>\n",
       "      <td>21890.50</td>\n",
       "      <td>19910.81</td>\n",
       "      <td>88.6</td>\n",
       "      <td>168.8</td>\n",
       "      <td>64.1</td>\n",
       "      <td>2548</td>\n",
       "      <td>18116.42</td>\n",
       "      <td>four</td>\n",
       "      <td>130</td>\n",
       "      <td>...</td>\n",
       "      <td>27</td>\n",
       "      <td>16500.0</td>\n",
       "      <td>0</td>\n",
       "      <td>1</td>\n",
       "      <td>1</td>\n",
       "      <td>0</td>\n",
       "      <td>0</td>\n",
       "      <td>1</td>\n",
       "      <td>1</td>\n",
       "      <td>0</td>\n",
       "    </tr>\n",
       "    <tr>\n",
       "      <th>2</th>\n",
       "      <td>alfa-romero Quadrifoglio</td>\n",
       "      <td>10376.65</td>\n",
       "      <td>19910.81</td>\n",
       "      <td>94.5</td>\n",
       "      <td>171.2</td>\n",
       "      <td>65.5</td>\n",
       "      <td>2823</td>\n",
       "      <td>25098.38</td>\n",
       "      <td>six</td>\n",
       "      <td>152</td>\n",
       "      <td>...</td>\n",
       "      <td>26</td>\n",
       "      <td>16500.0</td>\n",
       "      <td>0</td>\n",
       "      <td>1</td>\n",
       "      <td>1</td>\n",
       "      <td>0</td>\n",
       "      <td>0</td>\n",
       "      <td>1</td>\n",
       "      <td>1</td>\n",
       "      <td>0</td>\n",
       "    </tr>\n",
       "    <tr>\n",
       "      <th>3</th>\n",
       "      <td>audi 100 ls</td>\n",
       "      <td>14344.27</td>\n",
       "      <td>9239.31</td>\n",
       "      <td>99.8</td>\n",
       "      <td>176.6</td>\n",
       "      <td>66.2</td>\n",
       "      <td>2337</td>\n",
       "      <td>11574.05</td>\n",
       "      <td>four</td>\n",
       "      <td>109</td>\n",
       "      <td>...</td>\n",
       "      <td>30</td>\n",
       "      <td>13950.0</td>\n",
       "      <td>0</td>\n",
       "      <td>1</td>\n",
       "      <td>1</td>\n",
       "      <td>0</td>\n",
       "      <td>1</td>\n",
       "      <td>0</td>\n",
       "      <td>1</td>\n",
       "      <td>0</td>\n",
       "    </tr>\n",
       "    <tr>\n",
       "      <th>4</th>\n",
       "      <td>audi 100ls</td>\n",
       "      <td>14344.27</td>\n",
       "      <td>11087.46</td>\n",
       "      <td>99.4</td>\n",
       "      <td>176.6</td>\n",
       "      <td>66.4</td>\n",
       "      <td>2824</td>\n",
       "      <td>11574.05</td>\n",
       "      <td>five</td>\n",
       "      <td>136</td>\n",
       "      <td>...</td>\n",
       "      <td>22</td>\n",
       "      <td>17450.0</td>\n",
       "      <td>0</td>\n",
       "      <td>1</td>\n",
       "      <td>1</td>\n",
       "      <td>0</td>\n",
       "      <td>1</td>\n",
       "      <td>0</td>\n",
       "      <td>1</td>\n",
       "      <td>0</td>\n",
       "    </tr>\n",
       "  </tbody>\n",
       "</table>\n",
       "<p>5 rows × 24 columns</p>\n",
       "</div>"
      ],
      "text/plain": [
       "                       make   carbody  drivewheel  wheelbase  carlength  \\\n",
       "0        alfa-romero giulia  21890.50    19910.81       88.6      168.8   \n",
       "1       alfa-romero stelvio  21890.50    19910.81       88.6      168.8   \n",
       "2  alfa-romero Quadrifoglio  10376.65    19910.81       94.5      171.2   \n",
       "3               audi 100 ls  14344.27     9239.31       99.8      176.6   \n",
       "4                audi 100ls  14344.27    11087.46       99.4      176.6   \n",
       "\n",
       "   carwidth  curbweight  enginetype cylindernumber  enginesize  ...  \\\n",
       "0      64.1        2548    18116.42           four         130  ...   \n",
       "1      64.1        2548    18116.42           four         130  ...   \n",
       "2      65.5        2823    25098.38            six         152  ...   \n",
       "3      66.2        2337    11574.05           four         109  ...   \n",
       "4      66.4        2824    11574.05           five         136  ...   \n",
       "\n",
       "  highwaympg    price  fueltype_diesel  fueltype_gas  aspiration_std  \\\n",
       "0         27  13495.0                0             1               1   \n",
       "1         27  16500.0                0             1               1   \n",
       "2         26  16500.0                0             1               1   \n",
       "3         30  13950.0                0             1               1   \n",
       "4         22  17450.0                0             1               1   \n",
       "\n",
       "   aspiration_turbo  doornumber_four  doornumber_two  enginelocation_front  \\\n",
       "0                 0                0               1                     1   \n",
       "1                 0                0               1                     1   \n",
       "2                 0                0               1                     1   \n",
       "3                 0                1               0                     1   \n",
       "4                 0                1               0                     1   \n",
       "\n",
       "   enginelocation_rear  \n",
       "0                    0  \n",
       "1                    0  \n",
       "2                    0  \n",
       "3                    0  \n",
       "4                    0  \n",
       "\n",
       "[5 rows x 24 columns]"
      ]
     },
     "execution_count": 55,
     "metadata": {},
     "output_type": "execute_result"
    }
   ],
   "source": [
    "df['enginetype']=df['enginetype'].map(mean_ordinal)\n",
    "df.head()"
   ]
  },
  {
   "cell_type": "code",
   "execution_count": 56,
   "metadata": {},
   "outputs": [
    {
     "data": {
      "text/plain": [
       "cylindernumber\n",
       "eight     37400.10\n",
       "five      21630.47\n",
       "four      10285.75\n",
       "six       23671.83\n",
       "three      5151.00\n",
       "twelve    36000.00\n",
       "two       13020.00\n",
       "Name: price, dtype: float64"
      ]
     },
     "execution_count": 56,
     "metadata": {},
     "output_type": "execute_result"
    }
   ],
   "source": [
    "mean_ordinal=df.groupby(['cylindernumber'])['price'].mean().round(2)\n",
    "mean_ordinal"
   ]
  },
  {
   "cell_type": "code",
   "execution_count": 57,
   "metadata": {},
   "outputs": [
    {
     "data": {
      "text/html": [
       "<div>\n",
       "<style scoped>\n",
       "    .dataframe tbody tr th:only-of-type {\n",
       "        vertical-align: middle;\n",
       "    }\n",
       "\n",
       "    .dataframe tbody tr th {\n",
       "        vertical-align: top;\n",
       "    }\n",
       "\n",
       "    .dataframe thead th {\n",
       "        text-align: right;\n",
       "    }\n",
       "</style>\n",
       "<table border=\"1\" class=\"dataframe\">\n",
       "  <thead>\n",
       "    <tr style=\"text-align: right;\">\n",
       "      <th></th>\n",
       "      <th>make</th>\n",
       "      <th>carbody</th>\n",
       "      <th>drivewheel</th>\n",
       "      <th>wheelbase</th>\n",
       "      <th>carlength</th>\n",
       "      <th>carwidth</th>\n",
       "      <th>curbweight</th>\n",
       "      <th>enginetype</th>\n",
       "      <th>cylindernumber</th>\n",
       "      <th>enginesize</th>\n",
       "      <th>...</th>\n",
       "      <th>highwaympg</th>\n",
       "      <th>price</th>\n",
       "      <th>fueltype_diesel</th>\n",
       "      <th>fueltype_gas</th>\n",
       "      <th>aspiration_std</th>\n",
       "      <th>aspiration_turbo</th>\n",
       "      <th>doornumber_four</th>\n",
       "      <th>doornumber_two</th>\n",
       "      <th>enginelocation_front</th>\n",
       "      <th>enginelocation_rear</th>\n",
       "    </tr>\n",
       "  </thead>\n",
       "  <tbody>\n",
       "    <tr>\n",
       "      <th>0</th>\n",
       "      <td>alfa-romero giulia</td>\n",
       "      <td>21890.50</td>\n",
       "      <td>19910.81</td>\n",
       "      <td>88.6</td>\n",
       "      <td>168.8</td>\n",
       "      <td>64.1</td>\n",
       "      <td>2548</td>\n",
       "      <td>18116.42</td>\n",
       "      <td>10285.75</td>\n",
       "      <td>130</td>\n",
       "      <td>...</td>\n",
       "      <td>27</td>\n",
       "      <td>13495.0</td>\n",
       "      <td>0</td>\n",
       "      <td>1</td>\n",
       "      <td>1</td>\n",
       "      <td>0</td>\n",
       "      <td>0</td>\n",
       "      <td>1</td>\n",
       "      <td>1</td>\n",
       "      <td>0</td>\n",
       "    </tr>\n",
       "    <tr>\n",
       "      <th>1</th>\n",
       "      <td>alfa-romero stelvio</td>\n",
       "      <td>21890.50</td>\n",
       "      <td>19910.81</td>\n",
       "      <td>88.6</td>\n",
       "      <td>168.8</td>\n",
       "      <td>64.1</td>\n",
       "      <td>2548</td>\n",
       "      <td>18116.42</td>\n",
       "      <td>10285.75</td>\n",
       "      <td>130</td>\n",
       "      <td>...</td>\n",
       "      <td>27</td>\n",
       "      <td>16500.0</td>\n",
       "      <td>0</td>\n",
       "      <td>1</td>\n",
       "      <td>1</td>\n",
       "      <td>0</td>\n",
       "      <td>0</td>\n",
       "      <td>1</td>\n",
       "      <td>1</td>\n",
       "      <td>0</td>\n",
       "    </tr>\n",
       "    <tr>\n",
       "      <th>2</th>\n",
       "      <td>alfa-romero Quadrifoglio</td>\n",
       "      <td>10376.65</td>\n",
       "      <td>19910.81</td>\n",
       "      <td>94.5</td>\n",
       "      <td>171.2</td>\n",
       "      <td>65.5</td>\n",
       "      <td>2823</td>\n",
       "      <td>25098.38</td>\n",
       "      <td>23671.83</td>\n",
       "      <td>152</td>\n",
       "      <td>...</td>\n",
       "      <td>26</td>\n",
       "      <td>16500.0</td>\n",
       "      <td>0</td>\n",
       "      <td>1</td>\n",
       "      <td>1</td>\n",
       "      <td>0</td>\n",
       "      <td>0</td>\n",
       "      <td>1</td>\n",
       "      <td>1</td>\n",
       "      <td>0</td>\n",
       "    </tr>\n",
       "    <tr>\n",
       "      <th>3</th>\n",
       "      <td>audi 100 ls</td>\n",
       "      <td>14344.27</td>\n",
       "      <td>9239.31</td>\n",
       "      <td>99.8</td>\n",
       "      <td>176.6</td>\n",
       "      <td>66.2</td>\n",
       "      <td>2337</td>\n",
       "      <td>11574.05</td>\n",
       "      <td>10285.75</td>\n",
       "      <td>109</td>\n",
       "      <td>...</td>\n",
       "      <td>30</td>\n",
       "      <td>13950.0</td>\n",
       "      <td>0</td>\n",
       "      <td>1</td>\n",
       "      <td>1</td>\n",
       "      <td>0</td>\n",
       "      <td>1</td>\n",
       "      <td>0</td>\n",
       "      <td>1</td>\n",
       "      <td>0</td>\n",
       "    </tr>\n",
       "    <tr>\n",
       "      <th>4</th>\n",
       "      <td>audi 100ls</td>\n",
       "      <td>14344.27</td>\n",
       "      <td>11087.46</td>\n",
       "      <td>99.4</td>\n",
       "      <td>176.6</td>\n",
       "      <td>66.4</td>\n",
       "      <td>2824</td>\n",
       "      <td>11574.05</td>\n",
       "      <td>21630.47</td>\n",
       "      <td>136</td>\n",
       "      <td>...</td>\n",
       "      <td>22</td>\n",
       "      <td>17450.0</td>\n",
       "      <td>0</td>\n",
       "      <td>1</td>\n",
       "      <td>1</td>\n",
       "      <td>0</td>\n",
       "      <td>1</td>\n",
       "      <td>0</td>\n",
       "      <td>1</td>\n",
       "      <td>0</td>\n",
       "    </tr>\n",
       "  </tbody>\n",
       "</table>\n",
       "<p>5 rows × 24 columns</p>\n",
       "</div>"
      ],
      "text/plain": [
       "                       make   carbody  drivewheel  wheelbase  carlength  \\\n",
       "0        alfa-romero giulia  21890.50    19910.81       88.6      168.8   \n",
       "1       alfa-romero stelvio  21890.50    19910.81       88.6      168.8   \n",
       "2  alfa-romero Quadrifoglio  10376.65    19910.81       94.5      171.2   \n",
       "3               audi 100 ls  14344.27     9239.31       99.8      176.6   \n",
       "4                audi 100ls  14344.27    11087.46       99.4      176.6   \n",
       "\n",
       "   carwidth  curbweight  enginetype  cylindernumber  enginesize  ...  \\\n",
       "0      64.1        2548    18116.42        10285.75         130  ...   \n",
       "1      64.1        2548    18116.42        10285.75         130  ...   \n",
       "2      65.5        2823    25098.38        23671.83         152  ...   \n",
       "3      66.2        2337    11574.05        10285.75         109  ...   \n",
       "4      66.4        2824    11574.05        21630.47         136  ...   \n",
       "\n",
       "  highwaympg    price  fueltype_diesel  fueltype_gas  aspiration_std  \\\n",
       "0         27  13495.0                0             1               1   \n",
       "1         27  16500.0                0             1               1   \n",
       "2         26  16500.0                0             1               1   \n",
       "3         30  13950.0                0             1               1   \n",
       "4         22  17450.0                0             1               1   \n",
       "\n",
       "   aspiration_turbo  doornumber_four  doornumber_two  enginelocation_front  \\\n",
       "0                 0                0               1                     1   \n",
       "1                 0                0               1                     1   \n",
       "2                 0                0               1                     1   \n",
       "3                 0                1               0                     1   \n",
       "4                 0                1               0                     1   \n",
       "\n",
       "   enginelocation_rear  \n",
       "0                    0  \n",
       "1                    0  \n",
       "2                    0  \n",
       "3                    0  \n",
       "4                    0  \n",
       "\n",
       "[5 rows x 24 columns]"
      ]
     },
     "execution_count": 57,
     "metadata": {},
     "output_type": "execute_result"
    }
   ],
   "source": [
    "df['cylindernumber']=df['cylindernumber'].map(mean_ordinal)\n",
    "df.head()"
   ]
  },
  {
   "cell_type": "code",
   "execution_count": 58,
   "metadata": {},
   "outputs": [
    {
     "data": {
      "text/plain": [
       "fuelsystem\n",
       "1bbl     7555.55\n",
       "2bbl     7478.15\n",
       "4bbl    12145.00\n",
       "idi     15838.15\n",
       "mfi     12964.00\n",
       "mpfi    17754.60\n",
       "spdi    10990.44\n",
       "spfi    11048.00\n",
       "Name: price, dtype: float64"
      ]
     },
     "execution_count": 58,
     "metadata": {},
     "output_type": "execute_result"
    }
   ],
   "source": [
    "mean_ordinal=df.groupby(['fuelsystem'])['price'].mean().round(2)\n",
    "mean_ordinal"
   ]
  },
  {
   "cell_type": "code",
   "execution_count": 59,
   "metadata": {},
   "outputs": [
    {
     "data": {
      "text/html": [
       "<div>\n",
       "<style scoped>\n",
       "    .dataframe tbody tr th:only-of-type {\n",
       "        vertical-align: middle;\n",
       "    }\n",
       "\n",
       "    .dataframe tbody tr th {\n",
       "        vertical-align: top;\n",
       "    }\n",
       "\n",
       "    .dataframe thead th {\n",
       "        text-align: right;\n",
       "    }\n",
       "</style>\n",
       "<table border=\"1\" class=\"dataframe\">\n",
       "  <thead>\n",
       "    <tr style=\"text-align: right;\">\n",
       "      <th></th>\n",
       "      <th>make</th>\n",
       "      <th>carbody</th>\n",
       "      <th>drivewheel</th>\n",
       "      <th>wheelbase</th>\n",
       "      <th>carlength</th>\n",
       "      <th>carwidth</th>\n",
       "      <th>curbweight</th>\n",
       "      <th>enginetype</th>\n",
       "      <th>cylindernumber</th>\n",
       "      <th>enginesize</th>\n",
       "      <th>...</th>\n",
       "      <th>highwaympg</th>\n",
       "      <th>price</th>\n",
       "      <th>fueltype_diesel</th>\n",
       "      <th>fueltype_gas</th>\n",
       "      <th>aspiration_std</th>\n",
       "      <th>aspiration_turbo</th>\n",
       "      <th>doornumber_four</th>\n",
       "      <th>doornumber_two</th>\n",
       "      <th>enginelocation_front</th>\n",
       "      <th>enginelocation_rear</th>\n",
       "    </tr>\n",
       "  </thead>\n",
       "  <tbody>\n",
       "    <tr>\n",
       "      <th>0</th>\n",
       "      <td>alfa-romero giulia</td>\n",
       "      <td>21890.50</td>\n",
       "      <td>19910.81</td>\n",
       "      <td>88.6</td>\n",
       "      <td>168.8</td>\n",
       "      <td>64.1</td>\n",
       "      <td>2548</td>\n",
       "      <td>18116.42</td>\n",
       "      <td>10285.75</td>\n",
       "      <td>130</td>\n",
       "      <td>...</td>\n",
       "      <td>27</td>\n",
       "      <td>13495.0</td>\n",
       "      <td>0</td>\n",
       "      <td>1</td>\n",
       "      <td>1</td>\n",
       "      <td>0</td>\n",
       "      <td>0</td>\n",
       "      <td>1</td>\n",
       "      <td>1</td>\n",
       "      <td>0</td>\n",
       "    </tr>\n",
       "    <tr>\n",
       "      <th>1</th>\n",
       "      <td>alfa-romero stelvio</td>\n",
       "      <td>21890.50</td>\n",
       "      <td>19910.81</td>\n",
       "      <td>88.6</td>\n",
       "      <td>168.8</td>\n",
       "      <td>64.1</td>\n",
       "      <td>2548</td>\n",
       "      <td>18116.42</td>\n",
       "      <td>10285.75</td>\n",
       "      <td>130</td>\n",
       "      <td>...</td>\n",
       "      <td>27</td>\n",
       "      <td>16500.0</td>\n",
       "      <td>0</td>\n",
       "      <td>1</td>\n",
       "      <td>1</td>\n",
       "      <td>0</td>\n",
       "      <td>0</td>\n",
       "      <td>1</td>\n",
       "      <td>1</td>\n",
       "      <td>0</td>\n",
       "    </tr>\n",
       "    <tr>\n",
       "      <th>2</th>\n",
       "      <td>alfa-romero Quadrifoglio</td>\n",
       "      <td>10376.65</td>\n",
       "      <td>19910.81</td>\n",
       "      <td>94.5</td>\n",
       "      <td>171.2</td>\n",
       "      <td>65.5</td>\n",
       "      <td>2823</td>\n",
       "      <td>25098.38</td>\n",
       "      <td>23671.83</td>\n",
       "      <td>152</td>\n",
       "      <td>...</td>\n",
       "      <td>26</td>\n",
       "      <td>16500.0</td>\n",
       "      <td>0</td>\n",
       "      <td>1</td>\n",
       "      <td>1</td>\n",
       "      <td>0</td>\n",
       "      <td>0</td>\n",
       "      <td>1</td>\n",
       "      <td>1</td>\n",
       "      <td>0</td>\n",
       "    </tr>\n",
       "    <tr>\n",
       "      <th>3</th>\n",
       "      <td>audi 100 ls</td>\n",
       "      <td>14344.27</td>\n",
       "      <td>9239.31</td>\n",
       "      <td>99.8</td>\n",
       "      <td>176.6</td>\n",
       "      <td>66.2</td>\n",
       "      <td>2337</td>\n",
       "      <td>11574.05</td>\n",
       "      <td>10285.75</td>\n",
       "      <td>109</td>\n",
       "      <td>...</td>\n",
       "      <td>30</td>\n",
       "      <td>13950.0</td>\n",
       "      <td>0</td>\n",
       "      <td>1</td>\n",
       "      <td>1</td>\n",
       "      <td>0</td>\n",
       "      <td>1</td>\n",
       "      <td>0</td>\n",
       "      <td>1</td>\n",
       "      <td>0</td>\n",
       "    </tr>\n",
       "    <tr>\n",
       "      <th>4</th>\n",
       "      <td>audi 100ls</td>\n",
       "      <td>14344.27</td>\n",
       "      <td>11087.46</td>\n",
       "      <td>99.4</td>\n",
       "      <td>176.6</td>\n",
       "      <td>66.4</td>\n",
       "      <td>2824</td>\n",
       "      <td>11574.05</td>\n",
       "      <td>21630.47</td>\n",
       "      <td>136</td>\n",
       "      <td>...</td>\n",
       "      <td>22</td>\n",
       "      <td>17450.0</td>\n",
       "      <td>0</td>\n",
       "      <td>1</td>\n",
       "      <td>1</td>\n",
       "      <td>0</td>\n",
       "      <td>1</td>\n",
       "      <td>0</td>\n",
       "      <td>1</td>\n",
       "      <td>0</td>\n",
       "    </tr>\n",
       "  </tbody>\n",
       "</table>\n",
       "<p>5 rows × 24 columns</p>\n",
       "</div>"
      ],
      "text/plain": [
       "                       make   carbody  drivewheel  wheelbase  carlength  \\\n",
       "0        alfa-romero giulia  21890.50    19910.81       88.6      168.8   \n",
       "1       alfa-romero stelvio  21890.50    19910.81       88.6      168.8   \n",
       "2  alfa-romero Quadrifoglio  10376.65    19910.81       94.5      171.2   \n",
       "3               audi 100 ls  14344.27     9239.31       99.8      176.6   \n",
       "4                audi 100ls  14344.27    11087.46       99.4      176.6   \n",
       "\n",
       "   carwidth  curbweight  enginetype  cylindernumber  enginesize  ...  \\\n",
       "0      64.1        2548    18116.42        10285.75         130  ...   \n",
       "1      64.1        2548    18116.42        10285.75         130  ...   \n",
       "2      65.5        2823    25098.38        23671.83         152  ...   \n",
       "3      66.2        2337    11574.05        10285.75         109  ...   \n",
       "4      66.4        2824    11574.05        21630.47         136  ...   \n",
       "\n",
       "   highwaympg    price  fueltype_diesel  fueltype_gas  aspiration_std  \\\n",
       "0          27  13495.0                0             1               1   \n",
       "1          27  16500.0                0             1               1   \n",
       "2          26  16500.0                0             1               1   \n",
       "3          30  13950.0                0             1               1   \n",
       "4          22  17450.0                0             1               1   \n",
       "\n",
       "   aspiration_turbo  doornumber_four  doornumber_two  enginelocation_front  \\\n",
       "0                 0                0               1                     1   \n",
       "1                 0                0               1                     1   \n",
       "2                 0                0               1                     1   \n",
       "3                 0                1               0                     1   \n",
       "4                 0                1               0                     1   \n",
       "\n",
       "   enginelocation_rear  \n",
       "0                    0  \n",
       "1                    0  \n",
       "2                    0  \n",
       "3                    0  \n",
       "4                    0  \n",
       "\n",
       "[5 rows x 24 columns]"
      ]
     },
     "execution_count": 59,
     "metadata": {},
     "output_type": "execute_result"
    }
   ],
   "source": [
    "df['fuelsystem']=df['fuelsystem'].map(mean_ordinal)\n",
    "df.head()"
   ]
  },
  {
   "cell_type": "markdown",
   "metadata": {},
   "source": [
    "### Frequency Encoding"
   ]
  },
  {
   "cell_type": "code",
   "execution_count": 60,
   "metadata": {},
   "outputs": [
    {
     "data": {
      "text/plain": [
       "{'peugeot 504': 6,\n",
       " 'toyota corolla': 6,\n",
       " 'toyota corona': 6,\n",
       " 'subaru dl': 4,\n",
       " 'toyota mark ii': 3,\n",
       " 'mitsubishi mirage g4': 3,\n",
       " 'honda civic': 3,\n",
       " 'mazda 626': 3,\n",
       " 'mitsubishi g4': 3,\n",
       " 'mitsubishi outlander': 3,\n",
       " 'honda civic cvcc': 2,\n",
       " 'volvo 264gl': 2,\n",
       " 'volkswagen dasher': 2,\n",
       " 'plymouth fury iii': 2,\n",
       " 'volvo 145e (sw)': 2,\n",
       " 'volvo 244dl': 2,\n",
       " 'saab 99e': 2,\n",
       " 'subaru': 2,\n",
       " 'toyota corolla 1200': 2,\n",
       " 'honda accord': 2,\n",
       " 'saab 99gle': 2,\n",
       " 'isuzu D-Max ': 2,\n",
       " 'mazda glc': 2,\n",
       " 'porsche cayenne': 2,\n",
       " 'toyota corolla liftback': 2,\n",
       " 'bmw 320i': 2,\n",
       " 'toyota starlet': 2,\n",
       " 'nissan rogue': 2,\n",
       " 'mazda rx-4': 2,\n",
       " 'mazda rx-7 gs': 2,\n",
       " 'bmw x3': 2,\n",
       " 'peugeot 604sl': 2,\n",
       " 'mazda glc deluxe': 2,\n",
       " 'audi 100ls': 2,\n",
       " 'volvo 144ea': 2,\n",
       " 'saab 99le': 2,\n",
       " 'nissan latio': 2,\n",
       " 'nissan clipper': 2,\n",
       " 'nissan gt-r': 1,\n",
       " 'volkswagen 1131 deluxe sedan': 1,\n",
       " 'volvo 246': 1,\n",
       " 'volkswagen rabbit': 1,\n",
       " 'subaru tribeca': 1,\n",
       " 'vw dasher': 1,\n",
       " 'plymouth fury gran sedan': 1,\n",
       " 'dodge monaco (sw)': 1,\n",
       " 'subaru r1': 1,\n",
       " 'honda prelude': 1,\n",
       " 'audi fox': 1,\n",
       " 'plymouth duster': 1,\n",
       " 'audi 5000': 1,\n",
       " 'toyota corona hardtop': 1,\n",
       " 'mazda glc 4': 1,\n",
       " 'volvo 245': 1,\n",
       " 'dodge dart custom': 1,\n",
       " 'maxda glc deluxe': 1,\n",
       " 'porsche boxter': 1,\n",
       " 'honda civic 1500 gl': 1,\n",
       " 'honda civic (auto)': 1,\n",
       " 'mazda glc custom l': 1,\n",
       " 'alfa-romero Quadrifoglio': 1,\n",
       " 'chevrolet impala': 1,\n",
       " 'buick skylark': 1,\n",
       " 'peugeot 505s turbo diesel': 1,\n",
       " 'nissan dayz': 1,\n",
       " 'porsche macan': 1,\n",
       " 'nissan fuga': 1,\n",
       " 'jaguar xj': 1,\n",
       " 'dodge rampage': 1,\n",
       " 'volkswagen 411 (sw)': 1,\n",
       " 'dodge coronet custom': 1,\n",
       " 'dodge coronet custom (sw)': 1,\n",
       " 'toyota corona liftback': 1,\n",
       " 'volvo diesel': 1,\n",
       " 'plymouth cricket': 1,\n",
       " 'volkswagen super beetle': 1,\n",
       " 'volkswagen model 111': 1,\n",
       " 'nissan kicks': 1,\n",
       " 'honda civic 1300': 1,\n",
       " 'buick electra 225 custom': 1,\n",
       " 'bmw z4': 1,\n",
       " 'toyouta tercel': 1,\n",
       " 'Nissan versa': 1,\n",
       " 'buick opel isuzu deluxe': 1,\n",
       " 'audi 5000s (diesel)': 1,\n",
       " 'subaru r2': 1,\n",
       " 'renault 5 gtl': 1,\n",
       " 'subaru baja': 1,\n",
       " 'nissan leaf': 1,\n",
       " 'peugeot 304': 1,\n",
       " 'maxda rx3': 1,\n",
       " 'alfa-romero giulia': 1,\n",
       " 'dodge d200': 1,\n",
       " 'isuzu MU-X': 1,\n",
       " 'isuzu D-Max V-Cross': 1,\n",
       " 'toyota corolla tercel': 1,\n",
       " 'bmw x5': 1,\n",
       " 'buick regal sport coupe (turbo)': 1,\n",
       " 'subaru trezia': 1,\n",
       " 'peugeot 504 (sw)': 1,\n",
       " 'plymouth satellite custom (sw)': 1,\n",
       " 'renault 12tl': 1,\n",
       " 'dodge colt (sw)': 1,\n",
       " 'alfa-romero stelvio': 1,\n",
       " 'audi 100 ls': 1,\n",
       " 'honda accord lx': 1,\n",
       " 'plymouth valiant': 1,\n",
       " 'dodge challenger se': 1,\n",
       " 'buick century luxus (sw)': 1,\n",
       " 'toyota corolla 1600 (sw)': 1,\n",
       " 'mercury cougar': 1,\n",
       " 'toyota corona mark ii': 1,\n",
       " 'buick century special': 1,\n",
       " 'mazda glc custom': 1,\n",
       " 'porcshce panamera': 1,\n",
       " 'toyota carina': 1,\n",
       " 'nissan juke': 1,\n",
       " 'toyota celica gt': 1,\n",
       " 'honda accord cvcc': 1,\n",
       " 'nissan nv200': 1,\n",
       " 'buick skyhawk': 1,\n",
       " 'subaru brz': 1,\n",
       " 'mazda rx2 coupe': 1,\n",
       " 'volkswagen type 3': 1,\n",
       " 'buick century': 1,\n",
       " 'mitsubishi pajero': 1,\n",
       " 'jaguar xk': 1,\n",
       " 'toyota celica gt liftback': 1,\n",
       " 'bmw x4': 1,\n",
       " 'nissan teana': 1,\n",
       " 'mitsubishi lancer': 1,\n",
       " 'nissan note': 1,\n",
       " 'nissan titan': 1,\n",
       " 'dodge colt hardtop': 1,\n",
       " 'chevrolet vega 2300': 1,\n",
       " 'mitsubishi montero': 1,\n",
       " 'vokswagen rabbit': 1,\n",
       " 'vw rabbit': 1,\n",
       " 'chevrolet monte carlo': 1,\n",
       " 'nissan otti': 1,\n",
       " 'toyota tercel': 1,\n",
       " 'mitsubishi mirage': 1,\n",
       " 'jaguar xf': 1,\n",
       " 'volkswagen rabbit custom': 1,\n",
       " 'toyota cressida': 1,\n",
       " 'audi 4000': 1,\n",
       " 'bmw x1': 1}"
      ]
     },
     "execution_count": 60,
     "metadata": {},
     "output_type": "execute_result"
    }
   ],
   "source": [
    "frequency_encoding = df['make'].value_counts().to_dict()\n",
    "frequency_encoding"
   ]
  },
  {
   "cell_type": "code",
   "execution_count": 61,
   "metadata": {},
   "outputs": [
    {
     "data": {
      "text/html": [
       "<div>\n",
       "<style scoped>\n",
       "    .dataframe tbody tr th:only-of-type {\n",
       "        vertical-align: middle;\n",
       "    }\n",
       "\n",
       "    .dataframe tbody tr th {\n",
       "        vertical-align: top;\n",
       "    }\n",
       "\n",
       "    .dataframe thead th {\n",
       "        text-align: right;\n",
       "    }\n",
       "</style>\n",
       "<table border=\"1\" class=\"dataframe\">\n",
       "  <thead>\n",
       "    <tr style=\"text-align: right;\">\n",
       "      <th></th>\n",
       "      <th>make</th>\n",
       "      <th>carbody</th>\n",
       "      <th>drivewheel</th>\n",
       "      <th>wheelbase</th>\n",
       "      <th>carlength</th>\n",
       "      <th>carwidth</th>\n",
       "      <th>curbweight</th>\n",
       "      <th>enginetype</th>\n",
       "      <th>cylindernumber</th>\n",
       "      <th>enginesize</th>\n",
       "      <th>...</th>\n",
       "      <th>highwaympg</th>\n",
       "      <th>price</th>\n",
       "      <th>fueltype_diesel</th>\n",
       "      <th>fueltype_gas</th>\n",
       "      <th>aspiration_std</th>\n",
       "      <th>aspiration_turbo</th>\n",
       "      <th>doornumber_four</th>\n",
       "      <th>doornumber_two</th>\n",
       "      <th>enginelocation_front</th>\n",
       "      <th>enginelocation_rear</th>\n",
       "    </tr>\n",
       "  </thead>\n",
       "  <tbody>\n",
       "    <tr>\n",
       "      <th>0</th>\n",
       "      <td>1</td>\n",
       "      <td>21890.50</td>\n",
       "      <td>19910.81</td>\n",
       "      <td>88.6</td>\n",
       "      <td>168.8</td>\n",
       "      <td>64.1</td>\n",
       "      <td>2548</td>\n",
       "      <td>18116.42</td>\n",
       "      <td>10285.75</td>\n",
       "      <td>130</td>\n",
       "      <td>...</td>\n",
       "      <td>27</td>\n",
       "      <td>13495.0</td>\n",
       "      <td>0</td>\n",
       "      <td>1</td>\n",
       "      <td>1</td>\n",
       "      <td>0</td>\n",
       "      <td>0</td>\n",
       "      <td>1</td>\n",
       "      <td>1</td>\n",
       "      <td>0</td>\n",
       "    </tr>\n",
       "    <tr>\n",
       "      <th>1</th>\n",
       "      <td>1</td>\n",
       "      <td>21890.50</td>\n",
       "      <td>19910.81</td>\n",
       "      <td>88.6</td>\n",
       "      <td>168.8</td>\n",
       "      <td>64.1</td>\n",
       "      <td>2548</td>\n",
       "      <td>18116.42</td>\n",
       "      <td>10285.75</td>\n",
       "      <td>130</td>\n",
       "      <td>...</td>\n",
       "      <td>27</td>\n",
       "      <td>16500.0</td>\n",
       "      <td>0</td>\n",
       "      <td>1</td>\n",
       "      <td>1</td>\n",
       "      <td>0</td>\n",
       "      <td>0</td>\n",
       "      <td>1</td>\n",
       "      <td>1</td>\n",
       "      <td>0</td>\n",
       "    </tr>\n",
       "    <tr>\n",
       "      <th>2</th>\n",
       "      <td>1</td>\n",
       "      <td>10376.65</td>\n",
       "      <td>19910.81</td>\n",
       "      <td>94.5</td>\n",
       "      <td>171.2</td>\n",
       "      <td>65.5</td>\n",
       "      <td>2823</td>\n",
       "      <td>25098.38</td>\n",
       "      <td>23671.83</td>\n",
       "      <td>152</td>\n",
       "      <td>...</td>\n",
       "      <td>26</td>\n",
       "      <td>16500.0</td>\n",
       "      <td>0</td>\n",
       "      <td>1</td>\n",
       "      <td>1</td>\n",
       "      <td>0</td>\n",
       "      <td>0</td>\n",
       "      <td>1</td>\n",
       "      <td>1</td>\n",
       "      <td>0</td>\n",
       "    </tr>\n",
       "    <tr>\n",
       "      <th>3</th>\n",
       "      <td>1</td>\n",
       "      <td>14344.27</td>\n",
       "      <td>9239.31</td>\n",
       "      <td>99.8</td>\n",
       "      <td>176.6</td>\n",
       "      <td>66.2</td>\n",
       "      <td>2337</td>\n",
       "      <td>11574.05</td>\n",
       "      <td>10285.75</td>\n",
       "      <td>109</td>\n",
       "      <td>...</td>\n",
       "      <td>30</td>\n",
       "      <td>13950.0</td>\n",
       "      <td>0</td>\n",
       "      <td>1</td>\n",
       "      <td>1</td>\n",
       "      <td>0</td>\n",
       "      <td>1</td>\n",
       "      <td>0</td>\n",
       "      <td>1</td>\n",
       "      <td>0</td>\n",
       "    </tr>\n",
       "    <tr>\n",
       "      <th>4</th>\n",
       "      <td>2</td>\n",
       "      <td>14344.27</td>\n",
       "      <td>11087.46</td>\n",
       "      <td>99.4</td>\n",
       "      <td>176.6</td>\n",
       "      <td>66.4</td>\n",
       "      <td>2824</td>\n",
       "      <td>11574.05</td>\n",
       "      <td>21630.47</td>\n",
       "      <td>136</td>\n",
       "      <td>...</td>\n",
       "      <td>22</td>\n",
       "      <td>17450.0</td>\n",
       "      <td>0</td>\n",
       "      <td>1</td>\n",
       "      <td>1</td>\n",
       "      <td>0</td>\n",
       "      <td>1</td>\n",
       "      <td>0</td>\n",
       "      <td>1</td>\n",
       "      <td>0</td>\n",
       "    </tr>\n",
       "  </tbody>\n",
       "</table>\n",
       "<p>5 rows × 24 columns</p>\n",
       "</div>"
      ],
      "text/plain": [
       "   make   carbody  drivewheel  wheelbase  carlength  carwidth  curbweight  \\\n",
       "0     1  21890.50    19910.81       88.6      168.8      64.1        2548   \n",
       "1     1  21890.50    19910.81       88.6      168.8      64.1        2548   \n",
       "2     1  10376.65    19910.81       94.5      171.2      65.5        2823   \n",
       "3     1  14344.27     9239.31       99.8      176.6      66.2        2337   \n",
       "4     2  14344.27    11087.46       99.4      176.6      66.4        2824   \n",
       "\n",
       "   enginetype  cylindernumber  enginesize  ...  highwaympg    price  \\\n",
       "0    18116.42        10285.75         130  ...          27  13495.0   \n",
       "1    18116.42        10285.75         130  ...          27  16500.0   \n",
       "2    25098.38        23671.83         152  ...          26  16500.0   \n",
       "3    11574.05        10285.75         109  ...          30  13950.0   \n",
       "4    11574.05        21630.47         136  ...          22  17450.0   \n",
       "\n",
       "   fueltype_diesel  fueltype_gas  aspiration_std  aspiration_turbo  \\\n",
       "0                0             1               1                 0   \n",
       "1                0             1               1                 0   \n",
       "2                0             1               1                 0   \n",
       "3                0             1               1                 0   \n",
       "4                0             1               1                 0   \n",
       "\n",
       "   doornumber_four  doornumber_two  enginelocation_front  enginelocation_rear  \n",
       "0                0               1                     1                    0  \n",
       "1                0               1                     1                    0  \n",
       "2                0               1                     1                    0  \n",
       "3                1               0                     1                    0  \n",
       "4                1               0                     1                    0  \n",
       "\n",
       "[5 rows x 24 columns]"
      ]
     },
     "execution_count": 61,
     "metadata": {},
     "output_type": "execute_result"
    }
   ],
   "source": [
    "df['make']=df['make'].map(frequency_encoding)\n",
    "df.head()"
   ]
  },
  {
   "cell_type": "code",
   "execution_count": null,
   "metadata": {},
   "outputs": [],
   "source": []
  },
  {
   "cell_type": "code",
   "execution_count": 62,
   "metadata": {},
   "outputs": [
    {
     "data": {
      "text/plain": [
       "make                      int64\n",
       "carbody                 float64\n",
       "drivewheel              float64\n",
       "wheelbase               float64\n",
       "carlength               float64\n",
       "carwidth                float64\n",
       "curbweight                int64\n",
       "enginetype              float64\n",
       "cylindernumber          float64\n",
       "enginesize                int64\n",
       "fuelsystem              float64\n",
       "boreratio               float64\n",
       "horsepower                int64\n",
       "citympg                   int64\n",
       "highwaympg                int64\n",
       "price                   float64\n",
       "fueltype_diesel           uint8\n",
       "fueltype_gas              uint8\n",
       "aspiration_std            uint8\n",
       "aspiration_turbo          uint8\n",
       "doornumber_four           uint8\n",
       "doornumber_two            uint8\n",
       "enginelocation_front      uint8\n",
       "enginelocation_rear       uint8\n",
       "dtype: object"
      ]
     },
     "execution_count": 62,
     "metadata": {},
     "output_type": "execute_result"
    }
   ],
   "source": [
    "df.dtypes"
   ]
  },
  {
   "cell_type": "markdown",
   "metadata": {},
   "source": [
    "### Checking the Encoded features with pearson correlation "
   ]
  },
  {
   "cell_type": "code",
   "execution_count": 63,
   "metadata": {},
   "outputs": [
    {
     "name": "stdout",
     "output_type": "stream",
     "text": [
      "The Pearson Correlation Coefficient is 0.37202963258714417  with a P-value of P = 3.9625851718205644e-08\n"
     ]
    }
   ],
   "source": [
    "pearson_coef, p_value = stats.pearsonr(df['carbody'], df['price'])\n",
    "print(\"The Pearson Correlation Coefficient is\", pearson_coef, \" with a P-value of P =\", p_value)  "
   ]
  },
  {
   "cell_type": "code",
   "execution_count": 64,
   "metadata": {},
   "outputs": [
    {
     "name": "stdout",
     "output_type": "stream",
     "text": [
      "The Pearson Correlation Coefficient is 0.47038427270353445  with a P-value of P = 1.1073905976768452e-12\n"
     ]
    }
   ],
   "source": [
    "pearson_coef, p_value = stats.pearsonr(df['enginetype'], df['price'])\n",
    "print(\"The Pearson Correlation Coefficient is\", pearson_coef, \" with a P-value of P =\", p_value)  "
   ]
  },
  {
   "cell_type": "code",
   "execution_count": 65,
   "metadata": {},
   "outputs": [
    {
     "name": "stdout",
     "output_type": "stream",
     "text": [
      "The Pearson Correlation Coefficient is 0.7972681098272791  with a P-value of P = 2.191002639945644e-46\n"
     ]
    }
   ],
   "source": [
    "pearson_coef, p_value = stats.pearsonr(df['cylindernumber'], df['price'])\n",
    "print(\"The Pearson Correlation Coefficient is\", pearson_coef, \" with a P-value of P =\", p_value)  "
   ]
  },
  {
   "cell_type": "code",
   "execution_count": 66,
   "metadata": {},
   "outputs": [
    {
     "name": "stdout",
     "output_type": "stream",
     "text": [
      "The Pearson Correlation Coefficient is 0.5976995981507933  with a P-value of P = 3.0483834207275325e-21\n"
     ]
    }
   ],
   "source": [
    "pearson_coef, p_value = stats.pearsonr(df['fuelsystem'], df['price'])\n",
    "print(\"The Pearson Correlation Coefficient is\", pearson_coef, \" with a P-value of P =\", p_value)  "
   ]
  },
  {
   "cell_type": "code",
   "execution_count": 67,
   "metadata": {},
   "outputs": [
    {
     "name": "stdout",
     "output_type": "stream",
     "text": [
      "The Pearson Correlation Coefficient is 0.6406729740865453  with a P-value of P = 4.415578092802573e-25\n"
     ]
    }
   ],
   "source": [
    "pearson_coef, p_value = stats.pearsonr(df['drivewheel'], df['price'])\n",
    "print(\"The Pearson Correlation Coefficient is\", pearson_coef, \" with a P-value of P =\", p_value)  "
   ]
  },
  {
   "cell_type": "markdown",
   "metadata": {},
   "source": [
    "### Lets drop categorical features which are not highly correlated after Encoding "
   ]
  },
  {
   "cell_type": "code",
   "execution_count": 68,
   "metadata": {},
   "outputs": [],
   "source": [
    "df.drop(['carbody', 'enginetype'], axis = 1, inplace =True)"
   ]
  },
  {
   "cell_type": "code",
   "execution_count": 69,
   "metadata": {},
   "outputs": [
    {
     "data": {
      "text/html": [
       "<div>\n",
       "<style scoped>\n",
       "    .dataframe tbody tr th:only-of-type {\n",
       "        vertical-align: middle;\n",
       "    }\n",
       "\n",
       "    .dataframe tbody tr th {\n",
       "        vertical-align: top;\n",
       "    }\n",
       "\n",
       "    .dataframe thead th {\n",
       "        text-align: right;\n",
       "    }\n",
       "</style>\n",
       "<table border=\"1\" class=\"dataframe\">\n",
       "  <thead>\n",
       "    <tr style=\"text-align: right;\">\n",
       "      <th></th>\n",
       "      <th>make</th>\n",
       "      <th>drivewheel</th>\n",
       "      <th>wheelbase</th>\n",
       "      <th>carlength</th>\n",
       "      <th>carwidth</th>\n",
       "      <th>curbweight</th>\n",
       "      <th>cylindernumber</th>\n",
       "      <th>enginesize</th>\n",
       "      <th>fuelsystem</th>\n",
       "      <th>boreratio</th>\n",
       "      <th>...</th>\n",
       "      <th>highwaympg</th>\n",
       "      <th>price</th>\n",
       "      <th>fueltype_diesel</th>\n",
       "      <th>fueltype_gas</th>\n",
       "      <th>aspiration_std</th>\n",
       "      <th>aspiration_turbo</th>\n",
       "      <th>doornumber_four</th>\n",
       "      <th>doornumber_two</th>\n",
       "      <th>enginelocation_front</th>\n",
       "      <th>enginelocation_rear</th>\n",
       "    </tr>\n",
       "  </thead>\n",
       "  <tbody>\n",
       "    <tr>\n",
       "      <th>0</th>\n",
       "      <td>1</td>\n",
       "      <td>19910.81</td>\n",
       "      <td>88.6</td>\n",
       "      <td>168.8</td>\n",
       "      <td>64.1</td>\n",
       "      <td>2548</td>\n",
       "      <td>10285.75</td>\n",
       "      <td>130</td>\n",
       "      <td>17754.6</td>\n",
       "      <td>3.47</td>\n",
       "      <td>...</td>\n",
       "      <td>27</td>\n",
       "      <td>13495.0</td>\n",
       "      <td>0</td>\n",
       "      <td>1</td>\n",
       "      <td>1</td>\n",
       "      <td>0</td>\n",
       "      <td>0</td>\n",
       "      <td>1</td>\n",
       "      <td>1</td>\n",
       "      <td>0</td>\n",
       "    </tr>\n",
       "    <tr>\n",
       "      <th>1</th>\n",
       "      <td>1</td>\n",
       "      <td>19910.81</td>\n",
       "      <td>88.6</td>\n",
       "      <td>168.8</td>\n",
       "      <td>64.1</td>\n",
       "      <td>2548</td>\n",
       "      <td>10285.75</td>\n",
       "      <td>130</td>\n",
       "      <td>17754.6</td>\n",
       "      <td>3.47</td>\n",
       "      <td>...</td>\n",
       "      <td>27</td>\n",
       "      <td>16500.0</td>\n",
       "      <td>0</td>\n",
       "      <td>1</td>\n",
       "      <td>1</td>\n",
       "      <td>0</td>\n",
       "      <td>0</td>\n",
       "      <td>1</td>\n",
       "      <td>1</td>\n",
       "      <td>0</td>\n",
       "    </tr>\n",
       "    <tr>\n",
       "      <th>2</th>\n",
       "      <td>1</td>\n",
       "      <td>19910.81</td>\n",
       "      <td>94.5</td>\n",
       "      <td>171.2</td>\n",
       "      <td>65.5</td>\n",
       "      <td>2823</td>\n",
       "      <td>23671.83</td>\n",
       "      <td>152</td>\n",
       "      <td>17754.6</td>\n",
       "      <td>2.68</td>\n",
       "      <td>...</td>\n",
       "      <td>26</td>\n",
       "      <td>16500.0</td>\n",
       "      <td>0</td>\n",
       "      <td>1</td>\n",
       "      <td>1</td>\n",
       "      <td>0</td>\n",
       "      <td>0</td>\n",
       "      <td>1</td>\n",
       "      <td>1</td>\n",
       "      <td>0</td>\n",
       "    </tr>\n",
       "    <tr>\n",
       "      <th>3</th>\n",
       "      <td>1</td>\n",
       "      <td>9239.31</td>\n",
       "      <td>99.8</td>\n",
       "      <td>176.6</td>\n",
       "      <td>66.2</td>\n",
       "      <td>2337</td>\n",
       "      <td>10285.75</td>\n",
       "      <td>109</td>\n",
       "      <td>17754.6</td>\n",
       "      <td>3.19</td>\n",
       "      <td>...</td>\n",
       "      <td>30</td>\n",
       "      <td>13950.0</td>\n",
       "      <td>0</td>\n",
       "      <td>1</td>\n",
       "      <td>1</td>\n",
       "      <td>0</td>\n",
       "      <td>1</td>\n",
       "      <td>0</td>\n",
       "      <td>1</td>\n",
       "      <td>0</td>\n",
       "    </tr>\n",
       "    <tr>\n",
       "      <th>4</th>\n",
       "      <td>2</td>\n",
       "      <td>11087.46</td>\n",
       "      <td>99.4</td>\n",
       "      <td>176.6</td>\n",
       "      <td>66.4</td>\n",
       "      <td>2824</td>\n",
       "      <td>21630.47</td>\n",
       "      <td>136</td>\n",
       "      <td>17754.6</td>\n",
       "      <td>3.19</td>\n",
       "      <td>...</td>\n",
       "      <td>22</td>\n",
       "      <td>17450.0</td>\n",
       "      <td>0</td>\n",
       "      <td>1</td>\n",
       "      <td>1</td>\n",
       "      <td>0</td>\n",
       "      <td>1</td>\n",
       "      <td>0</td>\n",
       "      <td>1</td>\n",
       "      <td>0</td>\n",
       "    </tr>\n",
       "  </tbody>\n",
       "</table>\n",
       "<p>5 rows × 22 columns</p>\n",
       "</div>"
      ],
      "text/plain": [
       "   make  drivewheel  wheelbase  carlength  carwidth  curbweight  \\\n",
       "0     1    19910.81       88.6      168.8      64.1        2548   \n",
       "1     1    19910.81       88.6      168.8      64.1        2548   \n",
       "2     1    19910.81       94.5      171.2      65.5        2823   \n",
       "3     1     9239.31       99.8      176.6      66.2        2337   \n",
       "4     2    11087.46       99.4      176.6      66.4        2824   \n",
       "\n",
       "   cylindernumber  enginesize  fuelsystem  boreratio  ...  highwaympg  \\\n",
       "0        10285.75         130     17754.6       3.47  ...          27   \n",
       "1        10285.75         130     17754.6       3.47  ...          27   \n",
       "2        23671.83         152     17754.6       2.68  ...          26   \n",
       "3        10285.75         109     17754.6       3.19  ...          30   \n",
       "4        21630.47         136     17754.6       3.19  ...          22   \n",
       "\n",
       "     price  fueltype_diesel  fueltype_gas  aspiration_std  aspiration_turbo  \\\n",
       "0  13495.0                0             1               1                 0   \n",
       "1  16500.0                0             1               1                 0   \n",
       "2  16500.0                0             1               1                 0   \n",
       "3  13950.0                0             1               1                 0   \n",
       "4  17450.0                0             1               1                 0   \n",
       "\n",
       "   doornumber_four  doornumber_two  enginelocation_front  enginelocation_rear  \n",
       "0                0               1                     1                    0  \n",
       "1                0               1                     1                    0  \n",
       "2                0               1                     1                    0  \n",
       "3                1               0                     1                    0  \n",
       "4                1               0                     1                    0  \n",
       "\n",
       "[5 rows x 22 columns]"
      ]
     },
     "execution_count": 69,
     "metadata": {},
     "output_type": "execute_result"
    }
   ],
   "source": [
    "df.head()"
   ]
  },
  {
   "cell_type": "markdown",
   "metadata": {},
   "source": [
    "### above all features are highly correalted with the output feature "
   ]
  },
  {
   "cell_type": "code",
   "execution_count": null,
   "metadata": {},
   "outputs": [],
   "source": []
  },
  {
   "cell_type": "markdown",
   "metadata": {},
   "source": [
    "## Lets Perform Simple linear regression with most highly correlated feature \n",
    "####  if we go few steps before and check then identify that 'Enginsize', 'curbweight' and 'horsepower' are highly correlated\n",
    "#### Lets perform simple linear regression with horsepower"
   ]
  },
  {
   "cell_type": "code",
   "execution_count": 70,
   "metadata": {},
   "outputs": [],
   "source": [
    "from sklearn.linear_model import LinearRegression\n",
    "from sklearn.metrics import mean_squared_error"
   ]
  },
  {
   "cell_type": "code",
   "execution_count": 71,
   "metadata": {},
   "outputs": [],
   "source": [
    "lr = LinearRegression()"
   ]
  },
  {
   "cell_type": "code",
   "execution_count": 72,
   "metadata": {},
   "outputs": [
    {
     "data": {
      "text/plain": [
       "LinearRegression()"
      ]
     },
     "execution_count": 72,
     "metadata": {},
     "output_type": "execute_result"
    }
   ],
   "source": [
    "X = df[['horsepower']]\n",
    "Y = df['price']\n",
    "lr.fit(X,Y)"
   ]
  },
  {
   "cell_type": "code",
   "execution_count": 73,
   "metadata": {},
   "outputs": [
    {
     "data": {
      "text/plain": [
       "-3721.761494322749"
      ]
     },
     "execution_count": 73,
     "metadata": {},
     "output_type": "execute_result"
    }
   ],
   "source": [
    "lr.intercept_"
   ]
  },
  {
   "cell_type": "code",
   "execution_count": 74,
   "metadata": {},
   "outputs": [
    {
     "data": {
      "text/plain": [
       "array([163.26306097])"
      ]
     },
     "execution_count": 74,
     "metadata": {},
     "output_type": "execute_result"
    }
   ],
   "source": [
    "lr.coef_"
   ]
  },
  {
   "cell_type": "code",
   "execution_count": 75,
   "metadata": {},
   "outputs": [
    {
     "name": "stdout",
     "output_type": "stream",
     "text": [
      "first five predicted value is:  [14400.43827331 14400.43827331 21420.749895   12931.07072458\n",
      " 15053.49051719]\n"
     ]
    }
   ],
   "source": [
    "predictions=lr.predict(X)\n",
    "print('first five predicted value is: ', predictions[0:5])"
   ]
  },
  {
   "cell_type": "code",
   "execution_count": 76,
   "metadata": {},
   "outputs": [
    {
     "name": "stdout",
     "output_type": "stream",
     "text": [
      "The R-square is:  0.653088356490231\n"
     ]
    }
   ],
   "source": [
    "print('The R-square is: ', lr.score(X, Y))"
   ]
  },
  {
   "cell_type": "code",
   "execution_count": 77,
   "metadata": {},
   "outputs": [
    {
     "name": "stdout",
     "output_type": "stream",
     "text": [
      "The mean square error of price and predicted value is:  22032509.70230993\n"
     ]
    }
   ],
   "source": [
    "mse = mean_squared_error(Y, predictions)\n",
    "print('The mean square error of price and predicted value is: ', mse)"
   ]
  },
  {
   "cell_type": "markdown",
   "metadata": {},
   "source": [
    "### as getting good R-square so model gives accuracy is good with horsepower feature \n",
    "### Also we can see that with the below graph"
   ]
  },
  {
   "cell_type": "code",
   "execution_count": 78,
   "metadata": {},
   "outputs": [
    {
     "data": {
      "image/png": "[encoded data removed]",
      "text/plain": [
       "<Figure size 1440x576 with 1 Axes>"
      ]
     },
     "metadata": {
      "needs_background": "light"
     },
     "output_type": "display_data"
    }
   ],
   "source": [
    "plt.figure(figsize=(20,8))\n",
    "\n",
    "ax1 = sns.distplot(Y, hist=False, color=\"r\", label=\"Actual Value\")\n",
    "sns.distplot(predictions, hist=False, color=\"b\", label=\"Fitted Values\" , ax=ax1)\n",
    "\n",
    "\n",
    "plt.title('\\nActual vs Fitted Values for Price\\n')\n",
    "plt.xlabel('Price (in dollars)')\n",
    "plt.ylabel('Proportion of Cars')\n",
    "\n",
    "plt.show()\n",
    "plt.close()"
   ]
  },
  {
   "cell_type": "markdown",
   "metadata": {},
   "source": [
    "### Lets Perfoem Multiple Linear Regression "
   ]
  },
  {
   "cell_type": "code",
   "execution_count": 79,
   "metadata": {},
   "outputs": [],
   "source": [
    "x = df.drop('price', axis = 1)\n",
    "y = df['price']"
   ]
  },
  {
   "cell_type": "code",
   "execution_count": 80,
   "metadata": {},
   "outputs": [],
   "source": [
    "from sklearn.model_selection import train_test_split\n",
    "X_train, X_test, y_train, y_test = train_test_split(x, y, test_size = 0.3, random_state = 1)"
   ]
  },
  {
   "cell_type": "code",
   "execution_count": 81,
   "metadata": {},
   "outputs": [],
   "source": [
    "from sklearn.preprocessing import StandardScaler\n",
    "sc = StandardScaler()\n",
    "X_train = sc.fit_transform(X_train)\n",
    "X_test = sc.transform(X_test)"
   ]
  },
  {
   "cell_type": "code",
   "execution_count": 82,
   "metadata": {},
   "outputs": [],
   "source": [
    "multi_lr = LinearRegression()\n",
    "multi_lr.fit(X_train,y_train)\n",
    "predictions=multi_lr.predict(X_test)"
   ]
  },
  {
   "cell_type": "code",
   "execution_count": 83,
   "metadata": {},
   "outputs": [
    {
     "name": "stdout",
     "output_type": "stream",
     "text": [
      "The R-square is:  0.8989895980073815\n"
     ]
    }
   ],
   "source": [
    "print('The R-square is: ', multi_lr.score(X_train, y_train))"
   ]
  },
  {
   "cell_type": "code",
   "execution_count": 84,
   "metadata": {},
   "outputs": [
    {
     "name": "stdout",
     "output_type": "stream",
     "text": [
      "The mean square error of price and predicted value is:  11118380.484728891\n"
     ]
    }
   ],
   "source": [
    "mse = mean_squared_error(y_test, predictions)\n",
    "print('The mean square error of price and predicted value is: ', mse)"
   ]
  },
  {
   "cell_type": "code",
   "execution_count": null,
   "metadata": {},
   "outputs": [],
   "source": []
  },
  {
   "cell_type": "markdown",
   "metadata": {},
   "source": [
    "### as getting good R-square so model accuracy is good with all the features \n",
    "### Also we can see that with the below graph "
   ]
  },
  {
   "cell_type": "code",
   "execution_count": 85,
   "metadata": {},
   "outputs": [
    {
     "data": {
      "image/png": "[encoded data removed]",
      "text/plain": [
       "<Figure size 1440x576 with 1 Axes>"
      ]
     },
     "metadata": {
      "needs_background": "light"
     },
     "output_type": "display_data"
    }
   ],
   "source": [
    "plt.figure(figsize=(20,8))\n",
    "\n",
    "ax1 = sns.distplot(y_test, hist=False, color=\"r\", label=\"Actual Value\")\n",
    "sns.distplot(predictions, hist=False, color=\"b\", label=\"Fitted Values\" , ax=ax1)\n",
    "\n",
    "\n",
    "plt.title('\\nActual vs Fitted Values for Price\\n')\n",
    "plt.xlabel('Price (in dollars)')\n",
    "plt.ylabel('Proportion of Cars')\n",
    "\n",
    "plt.show()\n",
    "plt.close()"
   ]
  },
  {
   "cell_type": "code",
   "execution_count": 86,
   "metadata": {},
   "outputs": [
    {
     "data": {
      "text/plain": [
       "<AxesSubplot:xlabel='price', ylabel='Density'>"
      ]
     },
     "execution_count": 86,
     "metadata": {},
     "output_type": "execute_result"
    },
    {
     "data": {
      "image/png": "[encoded data removed]",
      "text/plain": [
       "<Figure size 432x288 with 1 Axes>"
      ]
     },
     "metadata": {
      "needs_background": "light"
     },
     "output_type": "display_data"
    }
   ],
   "source": [
    "sns.distplot(y_test - predictions)"
   ]
  },
  {
   "cell_type": "code",
   "execution_count": 89,
   "metadata": {},
   "outputs": [],
   "source": [
    "import pickle "
   ]
  },
  {
   "cell_type": "code",
   "execution_count": 90,
   "metadata": {},
   "outputs": [],
   "source": [
    "with open('model_pickle', 'wb') as f:\n",
    "    pickle.dump(multi_lr, f)"
   ]
  },
  {
   "cell_type": "code",
   "execution_count": null,
   "metadata": {},
   "outputs": [],
   "source": []
  }
 ],
 "metadata": {
  "kernelspec": {
   "display_name": "Python 3",
   "language": "python",
   "name": "python3"
  },
  "language_info": {
   "codemirror_mode": {
    "name": "ipython",
    "version": 3
   },
   "file_extension": ".py",
   "mimetype": "text/x-python",
   "name": "python",
   "nbconvert_exporter": "python",
   "pygments_lexer": "ipython3",
   "version": "3.8.5"
  }
 },
 "nbformat": 4,
 "nbformat_minor": 4
}
